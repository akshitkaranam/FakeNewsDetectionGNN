{
  "cells": [
    {
      "cell_type": "markdown",
      "metadata": {
        "id": "VuAge0e3mP-B"
      },
      "source": [
        "# Traditional Machine Learning Classifiers for Fake News Detetcion\n",
        "\n",
        "In this notebook we shall train an SVM and Logistic Regression model and benchmark their performance in detcting fake news."
      ]
    },
    {
      "cell_type": "markdown",
      "metadata": {
        "id": "6jNaNsV7mi_o"
      },
      "source": [
        "## Install Libraries\n",
        "\n",
        "The PyTorch Geometric Library has the UPFD dataset we need. We request your patience it takes around **30 mins** to install the library and it's dependencies."
      ]
    },
    {
      "cell_type": "code",
      "execution_count": null,
      "metadata": {
        "colab": {
          "base_uri": "https://localhost:8080/"
        },
        "id": "ptwv7mQlhCsE",
        "outputId": "c10232af-063a-4cbe-de48-39fd9ef57655"
      },
      "outputs": [
        {
          "name": "stdout",
          "output_type": "stream",
          "text": [
            "\u001b[33mWARNING: Skipping torch-scatter as it is not installed.\u001b[0m\n",
            "\u001b[33mWARNING: Skipping torch-sparse as it is not installed.\u001b[0m\n",
            "\u001b[33mWARNING: Skipping torch-geometric as it is not installed.\u001b[0m\n",
            "\u001b[33mWARNING: Skipping torch-cluster as it is not installed.\u001b[0m\n",
            "Looking in indexes: https://pypi.org/simple, https://us-python.pkg.dev/colab-wheels/public/simple/\n",
            "Looking in links: https://data.pyg.org/whl/torch-+.html\n",
            "Collecting torch-scatter\n",
            "  Downloading torch_scatter-2.0.9.tar.gz (21 kB)\n",
            "Building wheels for collected packages: torch-scatter\n",
            "  Building wheel for torch-scatter (setup.py) ... \u001b[?25l\u001b[?25hdone\n",
            "  Created wheel for torch-scatter: filename=torch_scatter-2.0.9-cp37-cp37m-linux_x86_64.whl size=274491 sha256=c5f907b4146515bd51ee99c8b2eb317573e1f54b238dfec2362c4886ecc8ad13\n",
            "  Stored in directory: /root/.cache/pip/wheels/dd/57/a3/42ea193b77378ce634eb9454c9bc1e3163f3b482a35cdee4d1\n",
            "Successfully built torch-scatter\n",
            "Installing collected packages: torch-scatter\n",
            "Successfully installed torch-scatter-2.0.9\n",
            "Looking in indexes: https://pypi.org/simple, https://us-python.pkg.dev/colab-wheels/public/simple/\n",
            "Looking in links: https://data.pyg.org/whl/torch-+.html\n",
            "Collecting torch-sparse\n",
            "  Downloading torch_sparse-0.6.15.tar.gz (2.1 MB)\n",
            "\u001b[K     |████████████████████████████████| 2.1 MB 20.1 MB/s \n",
            "\u001b[?25hRequirement already satisfied: scipy in /usr/local/lib/python3.7/dist-packages (from torch-sparse) (1.7.3)\n",
            "Requirement already satisfied: numpy<1.23.0,>=1.16.5 in /usr/local/lib/python3.7/dist-packages (from scipy->torch-sparse) (1.21.6)\n",
            "Building wheels for collected packages: torch-sparse\n"
          ]
        }
      ],
      "source": [
        "!pip uninstall torch-scatter torch-sparse torch-geometric torch-cluster  \n",
        "!pip install torch-scatter -f https://data.pyg.org/whl/torch-${TORCH}+${CUDA}.html\n",
        "!pip install torch-sparse -f https://data.pyg.org/whl/torch-${TORCH}+${CUDA}.html\n",
        "!pip install torch-geometric"
      ]
    },
    {
      "cell_type": "code",
      "execution_count": null,
      "metadata": {
        "id": "DuYq9vAanltD"
      },
      "outputs": [],
      "source": [
        "# Load the UPFD Dataset\n",
        "from torch_geometric.datasets import UPFD\n",
        "\n",
        "# Load libraries for data preprocessing \n",
        "import numpy as np\n",
        "import matplotlib.pyplot as plt\n",
        "import torch\n",
        "\n",
        "# Loading our classic models from sklearn\n",
        "from sklearn import svm\n",
        "from sklearn.linear_model import LogisticRegression\n",
        "from sklearn.naive_bayes import GaussianNB\n",
        "\n",
        "# Libraries for metrics and benchmarking\n",
        "from sklearn.metrics import ConfusionMatrixDisplay\n",
        "from sklearn.metrics import classification_report, accuracy_score"
      ]
    },
    {
      "cell_type": "markdown",
      "metadata": {
        "id": "AmeuUwyCnFh0"
      },
      "source": [
        "## Load and Investigate Datsets\n",
        "\n",
        "The UPFD dataset was created from the Gossipcop and Politifact datasets. As this datset was originally created for GNNs, the dataloader loads graphs as the input data. To make it compatible with linear models, we shall only use the data present in the **Root Node** of the graphs as this node contains the text from the news article in question.\n",
        "\n",
        "\\\n",
        "NOTE: We have set feature to spacy to ensure we only use the embedding of the article content. The alternative profile/content would include the 10 features about the user's twitter account, irrelavant for the linear model."
      ]
    },
    {
      "cell_type": "code",
      "execution_count": null,
      "metadata": {
        "id": "S1SV7WQwKylJ"
      },
      "outputs": [],
      "source": [
        "# Set the type of feature vector, uncomment the one you want to use\n",
        "#feature = \"spacy\"\n",
        "feature = \"bert\""
      ]
    },
    {
      "cell_type": "code",
      "execution_count": null,
      "metadata": {
        "id": "pJghuRfblleR",
        "colab": {
          "base_uri": "https://localhost:8080/"
        },
        "outputId": "8e73e639-8d07-45ef-dee6-e1d8b3f792f3"
      },
      "outputs": [
        {
          "output_type": "stream",
          "name": "stdout",
          "text": [
            "Gossippcop Train Samples:  1092\n",
            "Gossippcop Test Samples:  3826\n",
            "Gossippcop Vaidation Samples:  546\n"
          ]
        }
      ],
      "source": [
        "# Loading graphs from Gossippcop\n",
        "train_data_g = UPFD(root=\".\", name=\"gossipcop\", feature=feature, split=\"train\")\n",
        "test_data_g = UPFD(root=\".\", name=\"gossipcop\", feature=feature, split=\"test\")\n",
        "val_data_g = UPFD(root=\".\", name=\"gossipcop\", feature=feature, split=\"val\")\n",
        "print(\"Gossippcop Train Samples: \", len(train_data_g))\n",
        "print(\"Gossippcop Test Samples: \", len(test_data_g))\n",
        "print(\"Gossippcop Vaidation Samples: \", len(val_data_g))"
      ]
    },
    {
      "cell_type": "code",
      "execution_count": null,
      "metadata": {
        "id": "_7OQ4AIxnjPp"
      },
      "outputs": [],
      "source": [
        "# Loading graphs from Politifact\n",
        "train_data_p = UPFD(root=\".\", name=\"politifact\", feature=feature, split=\"train\")\n",
        "test_data_p = UPFD(root=\".\", name=\"politifact\", feature=feature, split=\"test\")\n",
        "val_data_p = UPFD(root=\".\", name=\"politifact\", feature=feature, split=\"val\")\n",
        "print(\"Politifact Train Samples: \", len(train_data_p))\n",
        "print(\"Politifact Test Samples: \", len(test_data_p))\n",
        "print(\"Politifact Validation Samples: \", len(val_data_p))\n",
        "\n",
        "# Changed ratio of sets such that train:val:test is 7:1:2\n",
        "combined = test_data_p+train_data_p+val_data_p\n",
        "train_data_pol,val_data_pol,test_data_pol = torch.utils.data.random_split(combined, [220,31,63],generator=torch.Generator().manual_seed(42))\n",
        "print(\"New Politifact Train Samples: \", len(train_data_pol))\n",
        "print(\"New Politifact Test Samples: \", len(test_data_pol))\n",
        "print(\"New Politifact Vaidation Samples: \", len(val_data_pol))"
      ]
    },
    {
      "cell_type": "code",
      "execution_count": null,
      "metadata": {
        "colab": {
          "base_uri": "https://localhost:8080/"
        },
        "id": "ldrDecvHmsDE",
        "outputId": "6e7b165e-041f-4964-b7e0-7ea09bc34ff4"
      },
      "outputs": [
        {
          "data": {
            "text/plain": [
              "Data(x=[72, 768], edge_index=[2, 71], y=[1])"
            ]
          },
          "execution_count": 10,
          "metadata": {},
          "output_type": "execute_result"
        }
      ],
      "source": [
        "# Loading the first graph object to check the structure\n",
        "train_data_p[0]"
      ]
    },
    {
      "cell_type": "code",
      "execution_count": null,
      "metadata": {
        "colab": {
          "base_uri": "https://localhost:8080/"
        },
        "id": "ApSIH9i2m387",
        "outputId": "8a4cff68-7c64-4f69-8628-9e7b1b897eeb"
      },
      "outputs": [
        {
          "data": {
            "text/plain": [
              "tensor([[ 0.4983,  0.1415,  0.3561,  ..., -0.4199,  0.2446,  1.0323],\n",
              "        [-0.0111, -0.0716, -0.1016,  ...,  0.4221, -0.1941,  0.2685],\n",
              "        [ 0.0332,  0.1159,  0.0657,  ...,  0.3730, -0.0025,  0.5887],\n",
              "        ...,\n",
              "        [ 0.0062,  0.0708,  0.0217,  ...,  0.3643, -0.0376,  0.5008],\n",
              "        [ 0.0360,  0.0502,  0.0446,  ...,  0.4044, -0.0616,  0.4972],\n",
              "        [ 0.0360,  0.0502,  0.0446,  ...,  0.4044, -0.0616,  0.4972]])"
            ]
          },
          "execution_count": 11,
          "metadata": {},
          "output_type": "execute_result"
        }
      ],
      "source": [
        "# Exploring the feature vectors of the graph nodes\n",
        "train_data_p[0].x"
      ]
    },
    {
      "cell_type": "code",
      "execution_count": null,
      "metadata": {
        "colab": {
          "base_uri": "https://localhost:8080/"
        },
        "id": "8onWGhGG7vyZ",
        "outputId": "1026dd56-489e-451e-a4e4-6167c3a549e6"
      },
      "outputs": [
        {
          "data": {
            "text/plain": [
              "768"
            ]
          },
          "execution_count": 12,
          "metadata": {},
          "output_type": "execute_result"
        }
      ],
      "source": [
        "# Great the root node would be the first element of the above tensor\n",
        "len(train_data_p[0].x[0])"
      ]
    },
    {
      "cell_type": "markdown",
      "metadata": {
        "id": "hJHl_BJ3o6Ib"
      },
      "source": [
        "### Voila we now know how to successfully extract the spacy/bert embedding of the news article. We can now directly feed this to our SVM and LogReg models.\n",
        "\n",
        "\\\n",
        "NOTE: The graph structure in both datasets are the same. Also the spacy embedding should be of length 300 wheras bert would be of length 768."
      ]
    },
    {
      "cell_type": "markdown",
      "metadata": {
        "id": "rZQEv4NNq1NH"
      },
      "source": [
        "## Pre-Processing the Graph Data\n",
        "\n",
        "Writing a function to help extract the sapcy embeddings of the news articles from the user propogation graphs."
      ]
    },
    {
      "cell_type": "code",
      "execution_count": null,
      "metadata": {
        "id": "1wc5zIIXdlvf"
      },
      "outputs": [],
      "source": [
        "def extractNews(train_data, test_data, val_data):\n",
        "  x_train = np.empty(len(train_data), dtype=object)\n",
        "  y_train = np.empty(len(train_data), dtype=int)\n",
        "\n",
        "  x_test = np.empty(len(test_data), dtype=object)\n",
        "  y_test = np.empty(len(test_data), dtype=int)\n",
        "\n",
        "  x_val = np.empty(len(val_data), dtype=object)\n",
        "  y_val = np.empty(len(val_data), dtype=int)\n",
        "\n",
        "  for i in range(len(train_data)):\n",
        "    x_train[i] = train_data[i].x[0]\n",
        "    y_train[i] = train_data[i].y\n",
        "\n",
        "  for i in range(len(test_data)):\n",
        "    x_test[i] = test_data[i].x[0]\n",
        "    y_test[i] = test_data[i].y\n",
        "\n",
        "  for i in range(len(val_data)):\n",
        "    x_val[i] = val_data[i].x[0]\n",
        "    y_val[i] = val_data[i].y\n",
        "\n",
        "  # Remember to detach the tensors!\n",
        "  x_train = [t.cpu().detach().numpy() for t in x_train]\n",
        "  x_test = [t.cpu().detach().numpy() for t in x_test]\n",
        "  x_val = [t.cpu().detach().numpy() for t in x_val]\n",
        "\n",
        "  return x_train, y_train, x_test, y_test, x_val, y_val"
      ]
    },
    {
      "cell_type": "code",
      "execution_count": null,
      "metadata": {
        "id": "Qj-fCNR5pYBw"
      },
      "outputs": [],
      "source": [
        "# Processed Gossipcop Data\n",
        "x_train_g, y_train_g, x_test_g, y_test_g, x_val_g, y_val_g = extractNews(train_data_g, test_data_g, val_data_g)\n",
        "\n",
        "# Processed Politifact Data\n",
        "x_train_p, y_train_p, x_test_p, y_test_p, x_val_p, y_val_p = extractNews(train_data_p, test_data_p, val_data_p)\n",
        "\n",
        "# Processed Politifact Data with new split\n",
        "x_train_pol, y_train_pol, x_test_pol, y_test_pol, x_val_pol, y_val_pol = extractNews(train_data_pol, test_data_pol, val_data_pol)"
      ]
    },
    {
      "cell_type": "markdown",
      "metadata": {
        "id": "NgMu6QlPpJwP"
      },
      "source": [
        "## Support Vector Machine Classifier\n"
      ]
    },
    {
      "cell_type": "code",
      "execution_count": null,
      "metadata": {
        "id": "f1QoCl0xLk_d"
      },
      "outputs": [],
      "source": [
        "def SVM(x_train, y_train, x_test, y_test):\n",
        "  clf = svm.SVC(kernel='linear')\n",
        "  clf.fit(x_train, y_train)\n",
        "\n",
        "  y_pred_svm = clf.predict(x_test)\n",
        "\n",
        "  print(\"Accuracy Score:\", accuracy_score(y_test, y_pred_svm), '\\n')\n",
        "\n",
        "  target_names = ['Fake', 'Real']\n",
        "  print(classification_report(y_test, y_pred_svm, target_names=target_names))\n",
        "  print(\"Number of mislabeled points out of a total %d points : %d\" % (len(x_test), (y_test != y_pred_svm).sum()))\n",
        "\n",
        "\n",
        "  # Displaying Confusion Matrix\n",
        "  titles_options = [\n",
        "      (\"Confusion matrix, without normalization\", None),\n",
        "      (\"Normalized confusion matrix\", \"true\"),\n",
        "  ]\n",
        "  for title, normalize in titles_options:\n",
        "      disp = ConfusionMatrixDisplay.from_estimator(\n",
        "          clf,\n",
        "          x_test,\n",
        "          y_test,\n",
        "          #display_labels=class_names,\n",
        "          cmap=plt.cm.Blues,\n",
        "          normalize=normalize,\n",
        "      )\n",
        "      disp.ax_.set_title(title)\n",
        "\n",
        "      print(title)\n",
        "      print(disp.confusion_matrix)\n",
        "      print()\n",
        "\n",
        "  plt.show()\n",
        "  return"
      ]
    },
    {
      "cell_type": "code",
      "execution_count": null,
      "metadata": {
        "colab": {
          "base_uri": "https://localhost:8080/",
          "height": 920
        },
        "id": "Z8-kj6HqsWqQ",
        "outputId": "1561f81d-0b10-41b8-9450-b411bd60bd25"
      },
      "outputs": [
        {
          "name": "stdout",
          "output_type": "stream",
          "text": [
            "Accuracy Score: 0.721118661787768 \n",
            "\n",
            "              precision    recall  f1-score   support\n",
            "\n",
            "        Fake       0.71      0.75      0.73      1910\n",
            "        Real       0.74      0.69      0.71      1916\n",
            "\n",
            "    accuracy                           0.72      3826\n",
            "   macro avg       0.72      0.72      0.72      3826\n",
            "weighted avg       0.72      0.72      0.72      3826\n",
            "\n",
            "Number of mislabeled points out of a total 3826 points : 1067\n",
            "Confusion matrix, without normalization\n",
            "[[1433  477]\n",
            " [ 590 1326]]\n",
            "\n",
            "Normalized confusion matrix\n",
            "[[0.75026178 0.24973822]\n",
            " [0.30793319 0.69206681]]\n",
            "\n"
          ]
        },
        {
          "data": {
            "image/png": "[encoded data removed]",
            "text/plain": [
              "<Figure size 432x288 with 2 Axes>"
            ]
          },
          "metadata": {},
          "output_type": "display_data"
        },
        {
          "data": {
            "image/png": "[encoded data removed]",
            "text/plain": [
              "<Figure size 432x288 with 2 Axes>"
            ]
          },
          "metadata": {},
          "output_type": "display_data"
        }
      ],
      "source": [
        "# SVM on Gossipcop Data\n",
        "SVM(x_train_g, y_train_g, x_test_g, y_test_g)"
      ]
    },
    {
      "cell_type": "code",
      "execution_count": null,
      "metadata": {
        "colab": {
          "base_uri": "https://localhost:8080/",
          "height": 920
        },
        "id": "Z1-HBRed0Ga6",
        "outputId": "adeb3ee1-831c-4d03-f657-8b68759fa2f9"
      },
      "outputs": [
        {
          "name": "stdout",
          "output_type": "stream",
          "text": [
            "Accuracy Score: 0.7279142707788814 \n",
            "\n",
            "              precision    recall  f1-score   support\n",
            "\n",
            "        Fake       0.71      0.77      0.74      1910\n",
            "        Real       0.75      0.69      0.72      1916\n",
            "\n",
            "    accuracy                           0.73      3826\n",
            "   macro avg       0.73      0.73      0.73      3826\n",
            "weighted avg       0.73      0.73      0.73      3826\n",
            "\n",
            "Number of mislabeled points out of a total 3826 points : 1041\n",
            "Confusion matrix, without normalization\n",
            "[[1466  444]\n",
            " [ 597 1319]]\n",
            "\n",
            "Normalized confusion matrix\n",
            "[[0.76753927 0.23246073]\n",
            " [0.31158664 0.68841336]]\n",
            "\n"
          ]
        },
        {
          "data": {
            "image/png": "[encoded data removed]",
            "text/plain": [
              "<Figure size 432x288 with 2 Axes>"
            ]
          },
          "metadata": {},
          "output_type": "display_data"
        },
        {
          "data": {
            "image/png": "[encoded data removed]",
            "text/plain": [
              "<Figure size 432x288 with 2 Axes>"
            ]
          },
          "metadata": {},
          "output_type": "display_data"
        }
      ],
      "source": [
        "# With val+train for building the model\n",
        "x_train = x_train_g + x_val_g\n",
        "y_train = np.concatenate((y_train_g, y_val_g))\n",
        "SVM(x_train, y_train, x_test_g, y_test_g)"
      ]
    },
    {
      "cell_type": "code",
      "execution_count": null,
      "metadata": {
        "colab": {
          "base_uri": "https://localhost:8080/",
          "height": 920
        },
        "id": "UTqt68d0sjFg",
        "outputId": "427decd0-f46b-4290-84f1-741fdab35013"
      },
      "outputs": [
        {
          "name": "stdout",
          "output_type": "stream",
          "text": [
            "Accuracy Score: 0.8099547511312217 \n",
            "\n",
            "              precision    recall  f1-score   support\n",
            "\n",
            "        Fake       0.78      0.86      0.82       108\n",
            "        Real       0.85      0.76      0.80       113\n",
            "\n",
            "    accuracy                           0.81       221\n",
            "   macro avg       0.81      0.81      0.81       221\n",
            "weighted avg       0.81      0.81      0.81       221\n",
            "\n",
            "Number of mislabeled points out of a total 221 points : 42\n",
            "Confusion matrix, without normalization\n",
            "[[93 15]\n",
            " [27 86]]\n",
            "\n",
            "Normalized confusion matrix\n",
            "[[0.86111111 0.13888889]\n",
            " [0.23893805 0.76106195]]\n",
            "\n"
          ]
        },
        {
          "data": {
            "image/png": "[encoded data removed]",
            "text/plain": [
              "<Figure size 432x288 with 2 Axes>"
            ]
          },
          "metadata": {},
          "output_type": "display_data"
        },
        {
          "data": {
            "image/png": "[encoded data removed]",
            "text/plain": [
              "<Figure size 432x288 with 2 Axes>"
            ]
          },
          "metadata": {},
          "output_type": "display_data"
        }
      ],
      "source": [
        "# SVM on Politifact Data\n",
        "SVM(x_train_p, y_train_p, x_test_p, y_test_p)"
      ]
    },
    {
      "cell_type": "code",
      "execution_count": null,
      "metadata": {
        "colab": {
          "base_uri": "https://localhost:8080/",
          "height": 920
        },
        "id": "3ss1YI8t0Tur",
        "outputId": "a96fbe2f-7553-4882-f582-08dd581e8038"
      },
      "outputs": [
        {
          "name": "stdout",
          "output_type": "stream",
          "text": [
            "Accuracy Score: 0.832579185520362 \n",
            "\n",
            "              precision    recall  f1-score   support\n",
            "\n",
            "        Fake       0.82      0.84      0.83       108\n",
            "        Real       0.85      0.82      0.83       113\n",
            "\n",
            "    accuracy                           0.83       221\n",
            "   macro avg       0.83      0.83      0.83       221\n",
            "weighted avg       0.83      0.83      0.83       221\n",
            "\n",
            "Number of mislabeled points out of a total 221 points : 37\n",
            "Confusion matrix, without normalization\n",
            "[[91 17]\n",
            " [20 93]]\n",
            "\n",
            "Normalized confusion matrix\n",
            "[[0.84259259 0.15740741]\n",
            " [0.17699115 0.82300885]]\n",
            "\n"
          ]
        },
        {
          "data": {
            "image/png": "[encoded data removed]",
            "text/plain": [
              "<Figure size 432x288 with 2 Axes>"
            ]
          },
          "metadata": {},
          "output_type": "display_data"
        },
        {
          "data": {
            "image/png": "[encoded data removed]",
            "text/plain": [
              "<Figure size 432x288 with 2 Axes>"
            ]
          },
          "metadata": {},
          "output_type": "display_data"
        }
      ],
      "source": [
        "# With val+train for building the model\n",
        "x_train = x_train_p + x_val_p\n",
        "y_train = np.concatenate((y_train_p, y_val_p))\n",
        "SVM(x_train, y_train, x_test_p, y_test_p)"
      ]
    },
    {
      "cell_type": "code",
      "execution_count": null,
      "metadata": {
        "colab": {
          "base_uri": "https://localhost:8080/",
          "height": 920
        },
        "id": "5Bad_ragWBXJ",
        "outputId": "2dba6b82-f725-42d5-a286-57ad91a75076"
      },
      "outputs": [
        {
          "name": "stdout",
          "output_type": "stream",
          "text": [
            "Accuracy Score: 0.8253968253968254 \n",
            "\n",
            "              precision    recall  f1-score   support\n",
            "\n",
            "        Fake       0.81      0.83      0.82        30\n",
            "        Real       0.84      0.82      0.83        33\n",
            "\n",
            "    accuracy                           0.83        63\n",
            "   macro avg       0.83      0.83      0.83        63\n",
            "weighted avg       0.83      0.83      0.83        63\n",
            "\n",
            "Number of mislabeled points out of a total 63 points : 11\n",
            "Confusion matrix, without normalization\n",
            "[[25  5]\n",
            " [ 6 27]]\n",
            "\n",
            "Normalized confusion matrix\n",
            "[[0.83333333 0.16666667]\n",
            " [0.18181818 0.81818182]]\n",
            "\n"
          ]
        },
        {
          "data": {
            "image/png": "[encoded data removed]",
            "text/plain": [
              "<Figure size 432x288 with 2 Axes>"
            ]
          },
          "metadata": {},
          "output_type": "display_data"
        },
        {
          "data": {
            "image/png": "[encoded data removed]",
            "text/plain": [
              "<Figure size 432x288 with 2 Axes>"
            ]
          },
          "metadata": {},
          "output_type": "display_data"
        }
      ],
      "source": [
        "# SVM on Polifact Dataset with new split\n",
        "x_train = x_train_pol + x_val_pol\n",
        "y_train = np.concatenate((y_train_pol, y_val_pol))\n",
        "SVM(x_train, y_train, x_test_pol, y_test_pol)"
      ]
    },
    {
      "cell_type": "markdown",
      "metadata": {
        "id": "b_duE0ZZr47B"
      },
      "source": [
        "## Multivariate Logistic Regression\n",
        "\n",
        "We need to scale the data first to ensure the model converges."
      ]
    },
    {
      "cell_type": "code",
      "execution_count": null,
      "metadata": {
        "id": "uJ9BFd2Ghdm6"
      },
      "outputs": [],
      "source": [
        "def MLR(x_train, y_train, x_test, y_test):\n",
        "  logreg = LogisticRegression(solver='liblinear').fit(x_train, y_train)\n",
        "\n",
        "  y_pred_logreg = logreg.predict(x_test)\n",
        "\n",
        "  print(\"Accuracy Score:\", accuracy_score(y_test, y_pred_logreg), '\\n')\n",
        "  target_names = ['Fake', 'Real']\n",
        "  print(classification_report(y_test, y_pred_logreg, target_names=target_names))\n",
        "  print(\"Number of mislabeled points out of a total %d points : %d\" % (len(x_test), (y_test != y_pred_logreg).sum()))"
      ]
    },
    {
      "cell_type": "code",
      "execution_count": null,
      "metadata": {
        "colab": {
          "base_uri": "https://localhost:8080/"
        },
        "id": "LV3fJCYks-rG",
        "outputId": "d59bb615-3218-4e6d-cdb7-3fb5d1dfd0ee"
      },
      "outputs": [
        {
          "name": "stdout",
          "output_type": "stream",
          "text": [
            "Accuracy Score: 0.7365394668060637 \n",
            "\n",
            "              precision    recall  f1-score   support\n",
            "\n",
            "        Fake       0.71      0.79      0.75      1910\n",
            "        Real       0.76      0.69      0.72      1916\n",
            "\n",
            "    accuracy                           0.74      3826\n",
            "   macro avg       0.74      0.74      0.74      3826\n",
            "weighted avg       0.74      0.74      0.74      3826\n",
            "\n",
            "Number of mislabeled points out of a total 3826 points : 1008\n"
          ]
        }
      ],
      "source": [
        "# Multivariate Logistic Reggression on Gossipcop Data\n",
        "MLR(x_train_g, y_train_g, x_test_g, y_test_g)"
      ]
    },
    {
      "cell_type": "code",
      "execution_count": null,
      "metadata": {
        "colab": {
          "base_uri": "https://localhost:8080/"
        },
        "id": "_NyC1huK3ZJO",
        "outputId": "e1651013-17fe-41ac-e32f-ccc1b609e1f2"
      },
      "outputs": [
        {
          "name": "stdout",
          "output_type": "stream",
          "text": [
            "Accuracy Score: 0.7341871406168322 \n",
            "\n",
            "              precision    recall  f1-score   support\n",
            "\n",
            "        Fake       0.71      0.78      0.75      1910\n",
            "        Real       0.76      0.69      0.72      1916\n",
            "\n",
            "    accuracy                           0.73      3826\n",
            "   macro avg       0.74      0.73      0.73      3826\n",
            "weighted avg       0.74      0.73      0.73      3826\n",
            "\n",
            "Number of mislabeled points out of a total 3826 points : 1017\n"
          ]
        }
      ],
      "source": [
        "x_train = x_train_g + x_val_g\n",
        "y_train = np.concatenate((y_train_g, y_val_g))\n",
        "MLR(x_train, y_train, x_test_g, y_test_g)"
      ]
    },
    {
      "cell_type": "code",
      "execution_count": null,
      "metadata": {
        "colab": {
          "base_uri": "https://localhost:8080/"
        },
        "id": "hD1Lu6ybs-BQ",
        "outputId": "5d2b55cf-976f-4b89-c4ef-3c609a02194b"
      },
      "outputs": [
        {
          "name": "stdout",
          "output_type": "stream",
          "text": [
            "Accuracy Score: 0.8235294117647058 \n",
            "\n",
            "              precision    recall  f1-score   support\n",
            "\n",
            "        Fake       0.78      0.90      0.83       108\n",
            "        Real       0.89      0.75      0.81       113\n",
            "\n",
            "    accuracy                           0.82       221\n",
            "   macro avg       0.83      0.83      0.82       221\n",
            "weighted avg       0.83      0.82      0.82       221\n",
            "\n",
            "Number of mislabeled points out of a total 221 points : 39\n"
          ]
        }
      ],
      "source": [
        "# Multivariate Logistic Reggression on Politifact Data\n",
        "MLR(x_train_p, y_train_p, x_test_p, y_test_p)"
      ]
    },
    {
      "cell_type": "code",
      "execution_count": null,
      "metadata": {
        "colab": {
          "base_uri": "https://localhost:8080/"
        },
        "id": "c9OOHI7q30PI",
        "outputId": "1a388a88-f5eb-4900-f4a6-af4c7ba86bcb"
      },
      "outputs": [
        {
          "name": "stdout",
          "output_type": "stream",
          "text": [
            "Accuracy Score: 0.8461538461538461 \n",
            "\n",
            "              precision    recall  f1-score   support\n",
            "\n",
            "        Fake       0.81      0.90      0.85       108\n",
            "        Real       0.89      0.80      0.84       113\n",
            "\n",
            "    accuracy                           0.85       221\n",
            "   macro avg       0.85      0.85      0.85       221\n",
            "weighted avg       0.85      0.85      0.85       221\n",
            "\n",
            "Number of mislabeled points out of a total 221 points : 34\n"
          ]
        }
      ],
      "source": [
        "x_train = x_train_p + x_val_p\n",
        "y_train = np.concatenate((y_train_p, y_val_p))\n",
        "MLR(x_train, y_train, x_test_p, y_test_p)"
      ]
    },
    {
      "cell_type": "code",
      "execution_count": null,
      "metadata": {
        "colab": {
          "base_uri": "https://localhost:8080/"
        },
        "id": "xLJW428bWQvW",
        "outputId": "d310d821-5cfa-47bc-e8b9-98fc80130177"
      },
      "outputs": [
        {
          "name": "stdout",
          "output_type": "stream",
          "text": [
            "Accuracy Score: 0.8412698412698413 \n",
            "\n",
            "              precision    recall  f1-score   support\n",
            "\n",
            "        Fake       0.78      0.93      0.85        30\n",
            "        Real       0.93      0.76      0.83        33\n",
            "\n",
            "    accuracy                           0.84        63\n",
            "   macro avg       0.85      0.85      0.84        63\n",
            "weighted avg       0.86      0.84      0.84        63\n",
            "\n",
            "Number of mislabeled points out of a total 63 points : 10\n"
          ]
        }
      ],
      "source": [
        "# Multivariate Logistic regression on Politifact Dataset with new split\n",
        "x_train = x_train_pol + x_val_pol\n",
        "y_train = np.concatenate((y_train_pol, y_val_pol))\n",
        "MLR(x_train, y_train, x_test_pol, y_test_pol)"
      ]
    },
    {
      "cell_type": "markdown",
      "metadata": {
        "id": "6J8bXJEVmKjy"
      },
      "source": [
        "## Extra - Naive Bayes Classifier\n",
        "\n",
        "A rather simple classifier that wasn't included in the report. "
      ]
    },
    {
      "cell_type": "code",
      "execution_count": null,
      "metadata": {
        "id": "udkwRjMli2H3"
      },
      "outputs": [],
      "source": [
        "def NBC(x_train, y_train, x_test, y_test):\n",
        "  gnb = GaussianNB().fit(x_train, y_train)\n",
        "  y_pred_gnb = gnb.predict(x_test)\n",
        "\n",
        "  print(\"Accuracy Score:\", accuracy_score(y_test, y_pred_gnb), '\\n')\n",
        "  target_names = ['Fake', 'Real']\n",
        "  print(classification_report(y_test, y_pred_gnb, target_names=target_names))\n",
        "  print(\"Number of mislabeled points out of a total %d points : %d\" % (len(x_test), (y_test != y_pred_gnb).sum()))"
      ]
    },
    {
      "cell_type": "code",
      "execution_count": null,
      "metadata": {
        "colab": {
          "base_uri": "https://localhost:8080/"
        },
        "id": "sonfWGFUtJFu",
        "outputId": "1b785fb5-0b70-4582-91e1-19fae7af7e81"
      },
      "outputs": [
        {
          "name": "stdout",
          "output_type": "stream",
          "text": [
            "Accuracy Score: 0.6445373758494511 \n",
            "\n",
            "              precision    recall  f1-score   support\n",
            "\n",
            "        Fake       0.67      0.57      0.61      1910\n",
            "        Real       0.63      0.72      0.67      1916\n",
            "\n",
            "    accuracy                           0.64      3826\n",
            "   macro avg       0.65      0.64      0.64      3826\n",
            "weighted avg       0.65      0.64      0.64      3826\n",
            "\n",
            "Number of mislabeled points out of a total 3826 points : 1360\n"
          ]
        }
      ],
      "source": [
        "# Naive Bayes on Gossipcop Data\n",
        "NBC(x_train_g, y_train_g, x_test_g, y_test_g)"
      ]
    },
    {
      "cell_type": "code",
      "execution_count": null,
      "metadata": {
        "colab": {
          "base_uri": "https://localhost:8080/"
        },
        "id": "IBArVAv039jN",
        "outputId": "3b572cbd-dda0-4935-d585-35e5c7c9d5d2"
      },
      "outputs": [
        {
          "name": "stdout",
          "output_type": "stream",
          "text": [
            "Accuracy Score: 0.652639832723471 \n",
            "\n",
            "              precision    recall  f1-score   support\n",
            "\n",
            "        Fake       0.68      0.58      0.63      1910\n",
            "        Real       0.63      0.72      0.68      1916\n",
            "\n",
            "    accuracy                           0.65      3826\n",
            "   macro avg       0.66      0.65      0.65      3826\n",
            "weighted avg       0.66      0.65      0.65      3826\n",
            "\n",
            "Number of mislabeled points out of a total 3826 points : 1329\n"
          ]
        }
      ],
      "source": [
        "x_train = x_train_g + x_val_g\n",
        "y_train = np.concatenate((y_train_g, y_val_g))\n",
        "NBC(x_train, y_train, x_test_g, y_test_g)"
      ]
    },
    {
      "cell_type": "code",
      "execution_count": null,
      "metadata": {
        "colab": {
          "base_uri": "https://localhost:8080/"
        },
        "id": "0hVDgG_7G-Nt",
        "outputId": "ccdbe354-49b1-4182-b68a-d54618add052"
      },
      "outputs": [
        {
          "name": "stdout",
          "output_type": "stream",
          "text": [
            "Accuracy Score: 0.6787330316742082 \n",
            "\n",
            "              precision    recall  f1-score   support\n",
            "\n",
            "        Fake       0.68      0.64      0.66       108\n",
            "        Real       0.68      0.72      0.70       113\n",
            "\n",
            "    accuracy                           0.68       221\n",
            "   macro avg       0.68      0.68      0.68       221\n",
            "weighted avg       0.68      0.68      0.68       221\n",
            "\n",
            "Number of mislabeled points out of a total 221 points : 71\n"
          ]
        }
      ],
      "source": [
        "# Naive Bayes on Politifact Data\n",
        "NBC(x_train_p, y_train_p, x_test_p, y_test_p)"
      ]
    },
    {
      "cell_type": "code",
      "execution_count": null,
      "metadata": {
        "colab": {
          "base_uri": "https://localhost:8080/"
        },
        "id": "9EFg4O3p341N",
        "outputId": "dec64479-4f2b-4a8a-ddb2-d66ff862795a"
      },
      "outputs": [
        {
          "name": "stdout",
          "output_type": "stream",
          "text": [
            "Accuracy Score: 0.6877828054298643 \n",
            "\n",
            "              precision    recall  f1-score   support\n",
            "\n",
            "        Fake       0.70      0.63      0.66       108\n",
            "        Real       0.68      0.74      0.71       113\n",
            "\n",
            "    accuracy                           0.69       221\n",
            "   macro avg       0.69      0.69      0.69       221\n",
            "weighted avg       0.69      0.69      0.69       221\n",
            "\n",
            "Number of mislabeled points out of a total 221 points : 69\n"
          ]
        }
      ],
      "source": [
        "x_train = x_train_p + x_val_p\n",
        "y_train = np.concatenate((y_train_p, y_val_p))\n",
        "NBC(x_train, y_train, x_test_p, y_test_p)"
      ]
    },
    {
      "cell_type": "code",
      "execution_count": null,
      "metadata": {
        "colab": {
          "base_uri": "https://localhost:8080/"
        },
        "id": "LiRv7-s4WdLx",
        "outputId": "610d94ea-1b02-4dc7-af2f-0b31400346f5"
      },
      "outputs": [
        {
          "name": "stdout",
          "output_type": "stream",
          "text": [
            "Accuracy Score: 0.8095238095238095 \n",
            "\n",
            "              precision    recall  f1-score   support\n",
            "\n",
            "        Fake       0.76      0.87      0.81        30\n",
            "        Real       0.86      0.76      0.81        33\n",
            "\n",
            "    accuracy                           0.81        63\n",
            "   macro avg       0.81      0.81      0.81        63\n",
            "weighted avg       0.82      0.81      0.81        63\n",
            "\n",
            "Number of mislabeled points out of a total 63 points : 12\n"
          ]
        }
      ],
      "source": [
        "# Naive Bayes on Politifact Data with new split\n",
        "x_train = x_train_pol + x_val_pol\n",
        "y_train = np.concatenate((y_train_pol, y_val_pol))\n",
        "NBC(x_train, y_train, x_test_pol, y_test_pol)"
      ]
    },
    {
      "cell_type": "markdown",
      "metadata": {
        "id": "C2EHFPX8x94i"
      },
      "source": [
        "## Simple Neural Network"
      ]
    },
    {
      "cell_type": "code",
      "execution_count": null,
      "metadata": {
        "colab": {
          "base_uri": "https://localhost:8080/"
        },
        "id": "GE1jP2zWyBMs",
        "outputId": "74064502-bd16-48ef-a4e7-511959ca3109"
      },
      "outputs": [
        {
          "output_type": "stream",
          "name": "stdout",
          "text": [
            "Looking in indexes: https://pypi.org/simple, https://us-python.pkg.dev/colab-wheels/public/simple/\n",
            "Collecting keras-tuner\n",
            "  Downloading keras_tuner-1.1.3-py3-none-any.whl (135 kB)\n",
            "\u001b[K     |████████████████████████████████| 135 kB 20.1 MB/s \n",
            "\u001b[?25hRequirement already satisfied: ipython in /usr/local/lib/python3.7/dist-packages (from keras-tuner) (7.9.0)\n",
            "Collecting kt-legacy\n",
            "  Downloading kt_legacy-1.0.4-py3-none-any.whl (9.6 kB)\n",
            "Requirement already satisfied: packaging in /usr/local/lib/python3.7/dist-packages (from keras-tuner) (21.3)\n",
            "Requirement already satisfied: tensorboard in /usr/local/lib/python3.7/dist-packages (from keras-tuner) (2.9.1)\n",
            "Requirement already satisfied: requests in /usr/local/lib/python3.7/dist-packages (from keras-tuner) (2.23.0)\n",
            "Requirement already satisfied: numpy in /usr/local/lib/python3.7/dist-packages (from keras-tuner) (1.21.6)\n",
            "Requirement already satisfied: pickleshare in /usr/local/lib/python3.7/dist-packages (from ipython->keras-tuner) (0.7.5)\n",
            "Requirement already satisfied: setuptools>=18.5 in /usr/local/lib/python3.7/dist-packages (from ipython->keras-tuner) (57.4.0)\n",
            "Requirement already satisfied: pexpect in /usr/local/lib/python3.7/dist-packages (from ipython->keras-tuner) (4.8.0)\n",
            "Requirement already satisfied: pygments in /usr/local/lib/python3.7/dist-packages (from ipython->keras-tuner) (2.6.1)\n",
            "Collecting jedi>=0.10\n",
            "  Downloading jedi-0.18.1-py2.py3-none-any.whl (1.6 MB)\n",
            "\u001b[K     |████████████████████████████████| 1.6 MB 32.0 MB/s \n",
            "\u001b[?25hRequirement already satisfied: decorator in /usr/local/lib/python3.7/dist-packages (from ipython->keras-tuner) (4.4.2)\n",
            "Requirement already satisfied: backcall in /usr/local/lib/python3.7/dist-packages (from ipython->keras-tuner) (0.2.0)\n",
            "Requirement already satisfied: prompt-toolkit<2.1.0,>=2.0.0 in /usr/local/lib/python3.7/dist-packages (from ipython->keras-tuner) (2.0.10)\n",
            "Requirement already satisfied: traitlets>=4.2 in /usr/local/lib/python3.7/dist-packages (from ipython->keras-tuner) (5.1.1)\n",
            "Requirement already satisfied: parso<0.9.0,>=0.8.0 in /usr/local/lib/python3.7/dist-packages (from jedi>=0.10->ipython->keras-tuner) (0.8.3)\n",
            "Requirement already satisfied: wcwidth in /usr/local/lib/python3.7/dist-packages (from prompt-toolkit<2.1.0,>=2.0.0->ipython->keras-tuner) (0.2.5)\n",
            "Requirement already satisfied: six>=1.9.0 in /usr/local/lib/python3.7/dist-packages (from prompt-toolkit<2.1.0,>=2.0.0->ipython->keras-tuner) (1.15.0)\n",
            "Requirement already satisfied: pyparsing!=3.0.5,>=2.0.2 in /usr/local/lib/python3.7/dist-packages (from packaging->keras-tuner) (3.0.9)\n",
            "Requirement already satisfied: ptyprocess>=0.5 in /usr/local/lib/python3.7/dist-packages (from pexpect->ipython->keras-tuner) (0.7.0)\n",
            "Requirement already satisfied: chardet<4,>=3.0.2 in /usr/local/lib/python3.7/dist-packages (from requests->keras-tuner) (3.0.4)\n",
            "Requirement already satisfied: idna<3,>=2.5 in /usr/local/lib/python3.7/dist-packages (from requests->keras-tuner) (2.10)\n",
            "Requirement already satisfied: certifi>=2017.4.17 in /usr/local/lib/python3.7/dist-packages (from requests->keras-tuner) (2022.9.24)\n",
            "Requirement already satisfied: urllib3!=1.25.0,!=1.25.1,<1.26,>=1.21.1 in /usr/local/lib/python3.7/dist-packages (from requests->keras-tuner) (1.24.3)\n",
            "Requirement already satisfied: tensorboard-plugin-wit>=1.6.0 in /usr/local/lib/python3.7/dist-packages (from tensorboard->keras-tuner) (1.8.1)\n",
            "Requirement already satisfied: markdown>=2.6.8 in /usr/local/lib/python3.7/dist-packages (from tensorboard->keras-tuner) (3.4.1)\n",
            "Requirement already satisfied: google-auth<3,>=1.6.3 in /usr/local/lib/python3.7/dist-packages (from tensorboard->keras-tuner) (1.35.0)\n",
            "Requirement already satisfied: wheel>=0.26 in /usr/local/lib/python3.7/dist-packages (from tensorboard->keras-tuner) (0.37.1)\n",
            "Requirement already satisfied: protobuf<3.20,>=3.9.2 in /usr/local/lib/python3.7/dist-packages (from tensorboard->keras-tuner) (3.17.3)\n",
            "Requirement already satisfied: werkzeug>=1.0.1 in /usr/local/lib/python3.7/dist-packages (from tensorboard->keras-tuner) (1.0.1)\n",
            "Requirement already satisfied: tensorboard-data-server<0.7.0,>=0.6.0 in /usr/local/lib/python3.7/dist-packages (from tensorboard->keras-tuner) (0.6.1)\n",
            "Requirement already satisfied: grpcio>=1.24.3 in /usr/local/lib/python3.7/dist-packages (from tensorboard->keras-tuner) (1.49.1)\n",
            "Requirement already satisfied: absl-py>=0.4 in /usr/local/lib/python3.7/dist-packages (from tensorboard->keras-tuner) (1.2.0)\n",
            "Requirement already satisfied: google-auth-oauthlib<0.5,>=0.4.1 in /usr/local/lib/python3.7/dist-packages (from tensorboard->keras-tuner) (0.4.6)\n",
            "Requirement already satisfied: rsa<5,>=3.1.4 in /usr/local/lib/python3.7/dist-packages (from google-auth<3,>=1.6.3->tensorboard->keras-tuner) (4.9)\n",
            "Requirement already satisfied: pyasn1-modules>=0.2.1 in /usr/local/lib/python3.7/dist-packages (from google-auth<3,>=1.6.3->tensorboard->keras-tuner) (0.2.8)\n",
            "Requirement already satisfied: cachetools<5.0,>=2.0.0 in /usr/local/lib/python3.7/dist-packages (from google-auth<3,>=1.6.3->tensorboard->keras-tuner) (4.2.4)\n",
            "Requirement already satisfied: requests-oauthlib>=0.7.0 in /usr/local/lib/python3.7/dist-packages (from google-auth-oauthlib<0.5,>=0.4.1->tensorboard->keras-tuner) (1.3.1)\n",
            "Requirement already satisfied: importlib-metadata>=4.4 in /usr/local/lib/python3.7/dist-packages (from markdown>=2.6.8->tensorboard->keras-tuner) (5.0.0)\n",
            "Requirement already satisfied: typing-extensions>=3.6.4 in /usr/local/lib/python3.7/dist-packages (from importlib-metadata>=4.4->markdown>=2.6.8->tensorboard->keras-tuner) (4.1.1)\n",
            "Requirement already satisfied: zipp>=0.5 in /usr/local/lib/python3.7/dist-packages (from importlib-metadata>=4.4->markdown>=2.6.8->tensorboard->keras-tuner) (3.9.0)\n",
            "Requirement already satisfied: pyasn1<0.5.0,>=0.4.6 in /usr/local/lib/python3.7/dist-packages (from pyasn1-modules>=0.2.1->google-auth<3,>=1.6.3->tensorboard->keras-tuner) (0.4.8)\n",
            "Requirement already satisfied: oauthlib>=3.0.0 in /usr/local/lib/python3.7/dist-packages (from requests-oauthlib>=0.7.0->google-auth-oauthlib<0.5,>=0.4.1->tensorboard->keras-tuner) (3.2.1)\n",
            "Installing collected packages: jedi, kt-legacy, keras-tuner\n",
            "Successfully installed jedi-0.18.1 keras-tuner-1.1.3 kt-legacy-1.0.4\n"
          ]
        }
      ],
      "source": [
        "import tensorflow as tf\n",
        "from tensorflow.keras import Sequential\n",
        "from tensorflow.keras.layers import Dropout, Dense\n",
        "!pip install keras-tuner\n",
        "import keras_tuner as kt"
      ]
    },
    {
      "cell_type": "code",
      "execution_count": null,
      "metadata": {
        "id": "vrrnJGTjzH2h"
      },
      "outputs": [],
      "source": [
        "def valid_callback(name):\n",
        "  return [tf.keras.callbacks.EarlyStopping(monitor='val_loss',mode='min', patience=3)]"
      ]
    },
    {
      "cell_type": "code",
      "source": [
        "from keras import backend as K\n",
        "def f1(y_true, y_pred): \n",
        "    true_positives = K.sum(K.round(K.clip(y_true * y_pred, 0, 1)))\n",
        "    possible_positives = K.sum(K.round(K.clip(y_true, 0, 1)))\n",
        "    predicted_positives = K.sum(K.round(K.clip(y_pred, 0, 1)))\n",
        "    precision = true_positives / (predicted_positives + K.epsilon())\n",
        "    recall = true_positives / (possible_positives + K.epsilon())\n",
        "    f1_val = 2*(precision*recall)/(precision+recall+K.epsilon())\n",
        "    return f1_val"
      ],
      "metadata": {
        "id": "RCtBxzRg2Mqn"
      },
      "execution_count": null,
      "outputs": []
    },
    {
      "cell_type": "code",
      "execution_count": null,
      "metadata": {
        "id": "NJ12pBxLyDDb"
      },
      "outputs": [],
      "source": [
        "def tuneModel(hp):\n",
        "  model = Sequential([\n",
        "        Dense(units=hp.Int(\"num_neurons_1\", min_value=32, max_value=256, step=4), activation='relu'),\n",
        "        Dropout(rate=0.5),\n",
        "        Dense(units=hp.Int(\"num_neurons_2\", min_value=32, max_value=256, step=4), activation='relu'),\n",
        "        Dropout(rate=0.5),\n",
        "        Dense(units=hp.Int(\"num_neurons_3\", min_value=32, max_value=256, step=4), activation='relu'),\n",
        "        Dropout(rate=0.5),\n",
        "        Dense(units=hp.Int(\"num_neurons_4\", min_value=32, max_value=256, step=4), activation='relu'),\n",
        "        Dropout(rate=0.5),\n",
        "        Dense(2, activation='sigmoid')\n",
        "    ])\n",
        "\n",
        "\n",
        "  learning_rate=hp.Float(\"learning_rate\", min_value=1e-4, max_value=2e-1, sampling='log')\n",
        "  optimizer = tf.keras.optimizers.Adam(learning_rate=learning_rate)\n",
        "\n",
        "  model.compile(optimizer=optimizer,\n",
        "                  loss=tf.keras.losses.SparseCategoricalCrossentropy(),\n",
        "                  metrics=['accuracy',f1])\n",
        "  \n",
        "  return model"
      ]
    },
    {
      "cell_type": "code",
      "execution_count": null,
      "metadata": {
        "id": "B9FyySnZ2AqV"
      },
      "outputs": [],
      "source": [
        "tuner = kt.RandomSearch(\n",
        "    hypermodel=tuneModel,\n",
        "    objective=kt.Objective(\"val_loss\", direction=\"min\"),\n",
        "    max_trials=20,\n",
        "    overwrite=True,\n",
        "    directory=\"my_dir\",\n",
        "    project_name=\"helloworld\",\n",
        ")"
      ]
    },
    {
      "cell_type": "markdown",
      "source": [
        "### Politifact (Split 20:10:70)"
      ],
      "metadata": {
        "id": "xKkdmGixNvD4"
      }
    },
    {
      "cell_type": "code",
      "execution_count": null,
      "metadata": {
        "colab": {
          "base_uri": "https://localhost:8080/"
        },
        "outputId": "5c9b633e-5b2f-410e-a620-d760cf8112e8",
        "id": "w4_NiqBJNvD9"
      },
      "outputs": [
        {
          "output_type": "stream",
          "name": "stdout",
          "text": [
            "Trial 20 Complete [00h 00m 02s]\n",
            "val_loss: 0.691455066204071\n",
            "\n",
            "Best val_loss So Far: 0.6474995017051697\n",
            "Total elapsed time: 00h 00m 44s\n"
          ]
        }
      ],
      "source": [
        "tuner.search(np.array(x_train_p), np.array(y_train_p), epochs=100, validation_data=(np.array(x_val_p), np.array(y_val_p)), callbacks=[valid_callback('model')])\n"
      ]
    },
    {
      "cell_type": "code",
      "source": [
        "best_hps=tuner.get_best_hyperparameters(num_trials=1)[0]\n",
        "print(f\"\"\"\n",
        "The hyperparameter search is complete. The optimal number of units in the first densely-connected\n",
        "layer is {best_hps.get('num_neurons_1')} and the optimal learning rate for the optimizer\n",
        "is {best_hps.get('learning_rate')}.\n",
        "\"\"\")"
      ],
      "metadata": {
        "colab": {
          "base_uri": "https://localhost:8080/"
        },
        "outputId": "edbd0404-ad08-4f68-93a7-9686788592fc",
        "id": "Y8zLtBWINvD_"
      },
      "execution_count": null,
      "outputs": [
        {
          "output_type": "stream",
          "name": "stdout",
          "text": [
            "\n",
            "The hyperparameter search is complete. The optimal number of units in the first densely-connected\n",
            "layer is 176 and the optimal learning rate for the optimizer\n",
            "is 0.009432969328113518.\n",
            "\n"
          ]
        }
      ]
    },
    {
      "cell_type": "code",
      "source": [
        "print(best_hps.get('num_neurons_1'),best_hps.get('num_neurons_2'),best_hps.get('num_neurons_3'),best_hps.get('num_neurons_4'),best_hps.get('learning_rate'))"
      ],
      "metadata": {
        "outputId": "946fd561-d966-45d1-e8a7-c5483abd55c2",
        "colab": {
          "base_uri": "https://localhost:8080/"
        },
        "id": "vcCOQ9nWNvEA"
      },
      "execution_count": null,
      "outputs": [
        {
          "output_type": "stream",
          "name": "stdout",
          "text": [
            "176 172 176 44 0.009432969328113518\n"
          ]
        }
      ]
    },
    {
      "cell_type": "code",
      "source": [
        "model = tuner.hypermodel.build(best_hps)\n",
        "history = model.fit(np.array(x_train_p), np.array(y_train_p), validation_data=(np.array(x_val_p),np.array(y_val_p)),epochs=50)\n",
        "\n",
        "val_cross_entropy_per_epoch = history.history['val_loss']\n",
        "best_epoch = val_cross_entropy_per_epoch.index(min(val_cross_entropy_per_epoch)) + 1\n",
        "print('Best epoch: %d' % (best_epoch,))"
      ],
      "metadata": {
        "colab": {
          "base_uri": "https://localhost:8080/"
        },
        "outputId": "74182780-fdda-493c-ad8a-349b4715c412",
        "id": "6lsr4McXNvEB"
      },
      "execution_count": null,
      "outputs": [
        {
          "output_type": "stream",
          "name": "stdout",
          "text": [
            "Epoch 1/50\n",
            "2/2 [==============================] - 1s 216ms/step - loss: 2.2623 - accuracy: 0.4516 - f1: 0.6109 - val_loss: 0.6799 - val_accuracy: 0.5806 - val_f1: 0.9000\n",
            "Epoch 2/50\n",
            "2/2 [==============================] - 0s 37ms/step - loss: 1.0924 - accuracy: 0.4677 - f1: 0.5625 - val_loss: 0.6907 - val_accuracy: 0.5161 - val_f1: 0.9114\n",
            "Epoch 3/50\n",
            "2/2 [==============================] - 0s 39ms/step - loss: 1.0905 - accuracy: 0.5645 - f1: 0.5798 - val_loss: 0.8091 - val_accuracy: 0.4194 - val_f1: 0.0000e+00\n",
            "Epoch 4/50\n",
            "2/2 [==============================] - 0s 51ms/step - loss: 0.8912 - accuracy: 0.5323 - f1: 0.7548 - val_loss: 0.7000 - val_accuracy: 0.4194 - val_f1: 0.0000e+00\n",
            "Epoch 5/50\n",
            "2/2 [==============================] - 0s 36ms/step - loss: 1.0571 - accuracy: 0.5161 - f1: 0.4762 - val_loss: 0.6847 - val_accuracy: 0.6774 - val_f1: 0.0000e+00\n",
            "Epoch 6/50\n",
            "2/2 [==============================] - 0s 65ms/step - loss: 0.8666 - accuracy: 0.5161 - f1: 0.4113 - val_loss: 0.7251 - val_accuracy: 0.4194 - val_f1: 0.0000e+00\n",
            "Epoch 7/50\n",
            "2/2 [==============================] - 0s 37ms/step - loss: 0.8503 - accuracy: 0.5484 - f1: 0.5213 - val_loss: 0.7076 - val_accuracy: 0.4194 - val_f1: 0.0000e+00\n",
            "Epoch 8/50\n",
            "2/2 [==============================] - 0s 55ms/step - loss: 0.7808 - accuracy: 0.4839 - f1: 0.4052 - val_loss: 0.6964 - val_accuracy: 0.4194 - val_f1: 0.0000e+00\n",
            "Epoch 9/50\n",
            "2/2 [==============================] - 0s 38ms/step - loss: 0.8038 - accuracy: 0.5645 - f1: 0.4708 - val_loss: 0.6876 - val_accuracy: 0.6452 - val_f1: 0.0000e+00\n",
            "Epoch 10/50\n",
            "2/2 [==============================] - 0s 39ms/step - loss: 0.7052 - accuracy: 0.5161 - f1: 0.4558 - val_loss: 0.6881 - val_accuracy: 0.6452 - val_f1: 0.2000\n",
            "Epoch 11/50\n",
            "2/2 [==============================] - 0s 38ms/step - loss: 0.7235 - accuracy: 0.4516 - f1: 0.5250 - val_loss: 0.6921 - val_accuracy: 0.5806 - val_f1: 0.7660\n",
            "Epoch 12/50\n",
            "2/2 [==============================] - 0s 51ms/step - loss: 0.6071 - accuracy: 0.6129 - f1: 0.7009 - val_loss: 0.6966 - val_accuracy: 0.4194 - val_f1: 0.8308\n",
            "Epoch 13/50\n",
            "2/2 [==============================] - 0s 38ms/step - loss: 0.6494 - accuracy: 0.5484 - f1: 0.4100 - val_loss: 0.7042 - val_accuracy: 0.4194 - val_f1: 0.8525\n",
            "Epoch 14/50\n",
            "2/2 [==============================] - 0s 52ms/step - loss: 0.6836 - accuracy: 0.5161 - f1: 0.5933 - val_loss: 0.7155 - val_accuracy: 0.4194 - val_f1: 0.8525\n",
            "Epoch 15/50\n",
            "2/2 [==============================] - 0s 38ms/step - loss: 0.6554 - accuracy: 0.5645 - f1: 0.6432 - val_loss: 0.7257 - val_accuracy: 0.4194 - val_f1: 0.8814\n",
            "Epoch 16/50\n",
            "2/2 [==============================] - 0s 67ms/step - loss: 0.6482 - accuracy: 0.5806 - f1: 0.6712 - val_loss: 0.7357 - val_accuracy: 0.4194 - val_f1: 0.8814\n",
            "Epoch 17/50\n",
            "2/2 [==============================] - 0s 39ms/step - loss: 0.6405 - accuracy: 0.5968 - f1: 0.5708 - val_loss: 0.7305 - val_accuracy: 0.4194 - val_f1: 0.8387\n",
            "Epoch 18/50\n",
            "2/2 [==============================] - 0s 50ms/step - loss: 0.7239 - accuracy: 0.5645 - f1: 0.5132 - val_loss: 0.7074 - val_accuracy: 0.4516 - val_f1: 0.8889\n",
            "Epoch 19/50\n",
            "2/2 [==============================] - 0s 37ms/step - loss: 0.6328 - accuracy: 0.5806 - f1: 0.4581 - val_loss: 0.6893 - val_accuracy: 0.5161 - val_f1: 0.8800\n",
            "Epoch 20/50\n",
            "2/2 [==============================] - 0s 37ms/step - loss: 0.6373 - accuracy: 0.6290 - f1: 0.6139 - val_loss: 0.6856 - val_accuracy: 0.5484 - val_f1: 0.8800\n",
            "Epoch 21/50\n",
            "2/2 [==============================] - 0s 40ms/step - loss: 0.5705 - accuracy: 0.6613 - f1: 0.5981 - val_loss: 0.6836 - val_accuracy: 0.6452 - val_f1: 0.8286\n",
            "Epoch 22/50\n",
            "2/2 [==============================] - 0s 40ms/step - loss: 0.5968 - accuracy: 0.6290 - f1: 0.6981 - val_loss: 0.6856 - val_accuracy: 0.6452 - val_f1: 0.7925\n",
            "Epoch 23/50\n",
            "2/2 [==============================] - 0s 41ms/step - loss: 0.5556 - accuracy: 0.6452 - f1: 0.4899 - val_loss: 0.7167 - val_accuracy: 0.7097 - val_f1: 0.7568\n",
            "Epoch 24/50\n",
            "2/2 [==============================] - 0s 39ms/step - loss: 0.5197 - accuracy: 0.6935 - f1: 0.5893 - val_loss: 0.8171 - val_accuracy: 0.6129 - val_f1: 0.3889\n",
            "Epoch 25/50\n",
            "2/2 [==============================] - 0s 40ms/step - loss: 0.5462 - accuracy: 0.6613 - f1: 0.5016 - val_loss: 0.9852 - val_accuracy: 0.5161 - val_f1: 0.5238\n",
            "Epoch 26/50\n",
            "2/2 [==============================] - 0s 37ms/step - loss: 0.6185 - accuracy: 0.5968 - f1: 0.4810 - val_loss: 0.8814 - val_accuracy: 0.7097 - val_f1: 0.6829\n",
            "Epoch 27/50\n",
            "2/2 [==============================] - 0s 39ms/step - loss: 0.4390 - accuracy: 0.7419 - f1: 0.4150 - val_loss: 0.7275 - val_accuracy: 0.6129 - val_f1: 0.7556\n",
            "Epoch 28/50\n",
            "2/2 [==============================] - 0s 42ms/step - loss: 0.4968 - accuracy: 0.6935 - f1: 0.5568 - val_loss: 0.7094 - val_accuracy: 0.6129 - val_f1: 0.7111\n",
            "Epoch 29/50\n",
            "2/2 [==============================] - 0s 56ms/step - loss: 0.5219 - accuracy: 0.8226 - f1: 0.5676 - val_loss: 0.7477 - val_accuracy: 0.7097 - val_f1: 0.6667\n",
            "Epoch 30/50\n",
            "2/2 [==============================] - 0s 42ms/step - loss: 0.3842 - accuracy: 0.8548 - f1: 0.5479 - val_loss: 0.8602 - val_accuracy: 0.7742 - val_f1: 0.7200\n",
            "Epoch 31/50\n",
            "2/2 [==============================] - 0s 42ms/step - loss: 0.3999 - accuracy: 0.7742 - f1: 0.4613 - val_loss: 0.8530 - val_accuracy: 0.7097 - val_f1: 0.7347\n",
            "Epoch 32/50\n",
            "2/2 [==============================] - 0s 38ms/step - loss: 0.4343 - accuracy: 0.7581 - f1: 0.5810 - val_loss: 0.7464 - val_accuracy: 0.6774 - val_f1: 0.7059\n",
            "Epoch 33/50\n",
            "2/2 [==============================] - 0s 38ms/step - loss: 0.3602 - accuracy: 0.8871 - f1: 0.5550 - val_loss: 0.9318 - val_accuracy: 0.7419 - val_f1: 0.7059\n",
            "Epoch 34/50\n",
            "2/2 [==============================] - 0s 40ms/step - loss: 0.4182 - accuracy: 0.8226 - f1: 0.5299 - val_loss: 1.0275 - val_accuracy: 0.7419 - val_f1: 0.7347\n",
            "Epoch 35/50\n",
            "2/2 [==============================] - 0s 38ms/step - loss: 0.3489 - accuracy: 0.8387 - f1: 0.5481 - val_loss: 1.7444 - val_accuracy: 0.7097 - val_f1: 0.7347\n",
            "Epoch 36/50\n",
            "2/2 [==============================] - 0s 39ms/step - loss: 0.5062 - accuracy: 0.8387 - f1: 0.5410 - val_loss: 1.0259 - val_accuracy: 0.7419 - val_f1: 0.7347\n",
            "Epoch 37/50\n",
            "2/2 [==============================] - 0s 50ms/step - loss: 0.7025 - accuracy: 0.7742 - f1: 0.5458 - val_loss: 0.6105 - val_accuracy: 0.7097 - val_f1: 0.7660\n",
            "Epoch 38/50\n",
            "2/2 [==============================] - 0s 39ms/step - loss: 0.4180 - accuracy: 0.8387 - f1: 0.5523 - val_loss: 0.5152 - val_accuracy: 0.7742 - val_f1: 0.7200\n",
            "Epoch 39/50\n",
            "2/2 [==============================] - 0s 51ms/step - loss: 0.2743 - accuracy: 0.8871 - f1: 0.5584 - val_loss: 0.5183 - val_accuracy: 0.8065 - val_f1: 0.7213\n",
            "Epoch 40/50\n",
            "2/2 [==============================] - 0s 39ms/step - loss: 0.3745 - accuracy: 0.7742 - f1: 0.5052 - val_loss: 0.5485 - val_accuracy: 0.8065 - val_f1: 0.7077\n",
            "Epoch 41/50\n",
            "2/2 [==============================] - 0s 41ms/step - loss: 0.3111 - accuracy: 0.8065 - f1: 0.5966 - val_loss: 0.5722 - val_accuracy: 0.7742 - val_f1: 0.6452\n",
            "Epoch 42/50\n",
            "2/2 [==============================] - 0s 37ms/step - loss: 0.2206 - accuracy: 0.9032 - f1: 0.5307 - val_loss: 0.5464 - val_accuracy: 0.8065 - val_f1: 0.6552\n",
            "Epoch 43/50\n",
            "2/2 [==============================] - 0s 62ms/step - loss: 0.2588 - accuracy: 0.8548 - f1: 0.6095 - val_loss: 0.5893 - val_accuracy: 0.8065 - val_f1: 0.6800\n",
            "Epoch 44/50\n",
            "2/2 [==============================] - 0s 41ms/step - loss: 0.2578 - accuracy: 0.9194 - f1: 0.4998 - val_loss: 0.5856 - val_accuracy: 0.8065 - val_f1: 0.7347\n",
            "Epoch 45/50\n",
            "2/2 [==============================] - 0s 39ms/step - loss: 0.2882 - accuracy: 0.8871 - f1: 0.5276 - val_loss: 0.7322 - val_accuracy: 0.8065 - val_f1: 0.7083\n",
            "Epoch 46/50\n",
            "2/2 [==============================] - 0s 37ms/step - loss: 0.1996 - accuracy: 0.9355 - f1: 0.3128 - val_loss: 0.8829 - val_accuracy: 0.7419 - val_f1: 0.6809\n",
            "Epoch 47/50\n",
            "2/2 [==============================] - 0s 49ms/step - loss: 0.1338 - accuracy: 0.9355 - f1: 0.4899 - val_loss: 0.8246 - val_accuracy: 0.8065 - val_f1: 0.7347\n",
            "Epoch 48/50\n",
            "2/2 [==============================] - 0s 37ms/step - loss: 0.2721 - accuracy: 0.8548 - f1: 0.5248 - val_loss: 0.8329 - val_accuracy: 0.8387 - val_f1: 0.7347\n",
            "Epoch 49/50\n",
            "2/2 [==============================] - 0s 49ms/step - loss: 0.4433 - accuracy: 0.8871 - f1: 0.4997 - val_loss: 1.1137 - val_accuracy: 0.8065 - val_f1: 0.7347\n",
            "Epoch 50/50\n",
            "2/2 [==============================] - 0s 59ms/step - loss: 0.2053 - accuracy: 0.9355 - f1: 0.4295 - val_loss: 1.3636 - val_accuracy: 0.8065 - val_f1: 0.6809\n",
            "Best epoch: 38\n"
          ]
        }
      ]
    },
    {
      "cell_type": "code",
      "source": [
        "x_train_p_combined = np.concatenate((np.array(x_train_p), np.array(x_val_p)), axis=0)\n",
        "y_train_p_combined = np.concatenate((np.array(y_train_p), np.array(y_val_p)), axis=0)\n"
      ],
      "metadata": {
        "id": "toD-3VejNvEB"
      },
      "execution_count": null,
      "outputs": []
    },
    {
      "cell_type": "code",
      "source": [
        "hypermodel = tuner.hypermodel.build(best_hps)\n",
        "history = hypermodel.fit(x_train_p_combined, y_train_p_combined,epochs=best_epoch)"
      ],
      "metadata": {
        "colab": {
          "base_uri": "https://localhost:8080/"
        },
        "outputId": "fe71cd09-4805-4cb7-ec23-0aa67010c566",
        "id": "JD8w3kUoNvEB"
      },
      "execution_count": null,
      "outputs": [
        {
          "output_type": "stream",
          "name": "stdout",
          "text": [
            "Epoch 1/38\n",
            "3/3 [==============================] - 1s 18ms/step - loss: 1.0379 - accuracy: 0.6452 - f1: 0.6315\n",
            "Epoch 2/38\n",
            "3/3 [==============================] - 0s 18ms/step - loss: 1.9448 - accuracy: 0.5269 - f1: 0.6386\n",
            "Epoch 3/38\n",
            "3/3 [==============================] - 0s 18ms/step - loss: 1.2783 - accuracy: 0.4946 - f1: 0.6986\n",
            "Epoch 4/38\n",
            "3/3 [==============================] - 0s 21ms/step - loss: 0.9575 - accuracy: 0.5161 - f1: 0.7380\n",
            "Epoch 5/38\n",
            "3/3 [==============================] - 0s 18ms/step - loss: 1.0547 - accuracy: 0.5161 - f1: 0.6461\n",
            "Epoch 6/38\n",
            "3/3 [==============================] - 0s 18ms/step - loss: 0.7736 - accuracy: 0.5699 - f1: 0.7266\n",
            "Epoch 7/38\n",
            "3/3 [==============================] - 0s 18ms/step - loss: 0.7689 - accuracy: 0.4839 - f1: 0.6705\n",
            "Epoch 8/38\n",
            "3/3 [==============================] - 0s 21ms/step - loss: 0.7112 - accuracy: 0.5376 - f1: 0.6656\n",
            "Epoch 9/38\n",
            "3/3 [==============================] - 0s 18ms/step - loss: 0.7431 - accuracy: 0.4516 - f1: 0.7348\n",
            "Epoch 10/38\n",
            "3/3 [==============================] - 0s 19ms/step - loss: 0.7077 - accuracy: 0.4516 - f1: 0.6357\n",
            "Epoch 11/38\n",
            "3/3 [==============================] - 0s 20ms/step - loss: 0.6892 - accuracy: 0.5806 - f1: 0.6778\n",
            "Epoch 12/38\n",
            "3/3 [==============================] - 0s 18ms/step - loss: 0.6878 - accuracy: 0.6129 - f1: 0.7079\n",
            "Epoch 13/38\n",
            "3/3 [==============================] - 0s 20ms/step - loss: 0.7094 - accuracy: 0.5591 - f1: 0.7245\n",
            "Epoch 14/38\n",
            "3/3 [==============================] - 0s 18ms/step - loss: 0.7071 - accuracy: 0.6022 - f1: 0.6555\n",
            "Epoch 15/38\n",
            "3/3 [==============================] - 0s 18ms/step - loss: 0.7009 - accuracy: 0.4946 - f1: 0.6853\n",
            "Epoch 16/38\n",
            "3/3 [==============================] - 0s 18ms/step - loss: 0.6997 - accuracy: 0.5269 - f1: 0.6284\n",
            "Epoch 17/38\n",
            "3/3 [==============================] - 0s 20ms/step - loss: 0.6810 - accuracy: 0.5699 - f1: 0.6526\n",
            "Epoch 18/38\n",
            "3/3 [==============================] - 0s 19ms/step - loss: 0.6605 - accuracy: 0.6129 - f1: 0.6250\n",
            "Epoch 19/38\n",
            "3/3 [==============================] - 0s 18ms/step - loss: 0.6976 - accuracy: 0.4946 - f1: 0.4481\n",
            "Epoch 20/38\n",
            "3/3 [==============================] - 0s 19ms/step - loss: 0.6436 - accuracy: 0.5376 - f1: 0.6638\n",
            "Epoch 21/38\n",
            "3/3 [==============================] - 0s 18ms/step - loss: 0.6835 - accuracy: 0.5161 - f1: 0.6295\n",
            "Epoch 22/38\n",
            "3/3 [==============================] - 0s 19ms/step - loss: 0.6622 - accuracy: 0.5914 - f1: 0.5726\n",
            "Epoch 23/38\n",
            "3/3 [==============================] - 0s 19ms/step - loss: 0.6084 - accuracy: 0.6667 - f1: 0.7187\n",
            "Epoch 24/38\n",
            "3/3 [==============================] - 0s 19ms/step - loss: 0.5952 - accuracy: 0.6989 - f1: 0.7798\n",
            "Epoch 25/38\n",
            "3/3 [==============================] - 0s 18ms/step - loss: 0.6154 - accuracy: 0.7312 - f1: 0.7738\n",
            "Epoch 26/38\n",
            "3/3 [==============================] - 0s 19ms/step - loss: 0.5742 - accuracy: 0.6989 - f1: 0.6652\n",
            "Epoch 27/38\n",
            "3/3 [==============================] - 0s 20ms/step - loss: 0.5557 - accuracy: 0.7097 - f1: 0.7057\n",
            "Epoch 28/38\n",
            "3/3 [==============================] - 0s 18ms/step - loss: 0.5437 - accuracy: 0.7849 - f1: 0.7366\n",
            "Epoch 29/38\n",
            "3/3 [==============================] - 0s 21ms/step - loss: 0.4951 - accuracy: 0.7849 - f1: 0.6027\n",
            "Epoch 30/38\n",
            "3/3 [==============================] - 0s 18ms/step - loss: 0.3976 - accuracy: 0.7957 - f1: 0.7342\n",
            "Epoch 31/38\n",
            "3/3 [==============================] - 0s 20ms/step - loss: 0.3606 - accuracy: 0.8065 - f1: 0.7153\n",
            "Epoch 32/38\n",
            "3/3 [==============================] - 0s 20ms/step - loss: 0.3711 - accuracy: 0.8172 - f1: 0.7623\n",
            "Epoch 33/38\n",
            "3/3 [==============================] - 0s 18ms/step - loss: 0.3363 - accuracy: 0.8387 - f1: 0.7452\n",
            "Epoch 34/38\n",
            "3/3 [==============================] - 0s 18ms/step - loss: 0.2965 - accuracy: 0.8710 - f1: 0.7603\n",
            "Epoch 35/38\n",
            "3/3 [==============================] - 0s 18ms/step - loss: 0.2568 - accuracy: 0.8817 - f1: 0.7138\n",
            "Epoch 36/38\n",
            "3/3 [==============================] - 0s 18ms/step - loss: 0.2305 - accuracy: 0.8925 - f1: 0.6778\n",
            "Epoch 37/38\n",
            "3/3 [==============================] - 0s 18ms/step - loss: 0.1850 - accuracy: 0.8710 - f1: 0.7763\n",
            "Epoch 38/38\n",
            "3/3 [==============================] - 0s 19ms/step - loss: 0.4496 - accuracy: 0.8172 - f1: 0.6874\n"
          ]
        }
      ]
    },
    {
      "cell_type": "code",
      "source": [
        "hypermodel.evaluate(x_train_p_combined,y_train_p_combined)"
      ],
      "metadata": {
        "colab": {
          "base_uri": "https://localhost:8080/"
        },
        "outputId": "f34798cb-9be3-4af4-c929-12a01cfdafe9",
        "id": "kuoJxfDwNvEC"
      },
      "execution_count": null,
      "outputs": [
        {
          "output_type": "stream",
          "name": "stdout",
          "text": [
            "3/3 [==============================] - 0s 4ms/step - loss: 0.1029 - accuracy: 0.9570 - f1: 0.6424\n"
          ]
        },
        {
          "output_type": "execute_result",
          "data": {
            "text/plain": [
              "[0.10293744504451752, 0.9569892287254333, 0.642395555973053]"
            ]
          },
          "metadata": {},
          "execution_count": 41
        }
      ]
    },
    {
      "cell_type": "code",
      "source": [
        "hypermodel.evaluate(np.array(x_test_p),np.array(y_test_p))"
      ],
      "metadata": {
        "colab": {
          "base_uri": "https://localhost:8080/"
        },
        "outputId": "716cc314-c645-4338-b9ad-849538111048",
        "id": "AQiuIGUfNvEC"
      },
      "execution_count": null,
      "outputs": [
        {
          "output_type": "stream",
          "name": "stdout",
          "text": [
            "7/7 [==============================] - 0s 2ms/step - loss: 0.9122 - accuracy: 0.7828 - f1: 0.6643\n"
          ]
        },
        {
          "output_type": "execute_result",
          "data": {
            "text/plain": [
              "[0.9122011065483093, 0.7828054428100586, 0.6642504334449768]"
            ]
          },
          "metadata": {},
          "execution_count": 42
        }
      ]
    },
    {
      "cell_type": "markdown",
      "source": [
        "### Politifact (Custom Split 70:10:20) "
      ],
      "metadata": {
        "id": "a1SFA2kesyCJ"
      }
    },
    {
      "cell_type": "code",
      "execution_count": null,
      "metadata": {
        "colab": {
          "base_uri": "https://localhost:8080/"
        },
        "id": "A6fcknBqyy6r",
        "outputId": "182d76cc-18bb-4751-8e86-d4245dbd6114"
      },
      "outputs": [
        {
          "output_type": "stream",
          "name": "stdout",
          "text": [
            "Trial 20 Complete [00h 00m 02s]\n",
            "val_loss: 0.6830078363418579\n",
            "\n",
            "Best val_loss So Far: 0.5844074487686157\n",
            "Total elapsed time: 00h 01m 00s\n"
          ]
        }
      ],
      "source": [
        "tuner.search(np.array(x_train_p), np.array(y_train_p), epochs=100, validation_data=(np.array(x_val_p), np.array(y_val_p)), callbacks=[valid_callback('model')])\n"
      ]
    },
    {
      "cell_type": "code",
      "source": [
        "best_hps=tuner.get_best_hyperparameters(num_trials=1)[0]\n",
        "print(f\"\"\"\n",
        "The hyperparameter search is complete. The optimal number of units in the first densely-connected\n",
        "layer is {best_hps.get('num_neurons_1')} and the optimal learning rate for the optimizer\n",
        "is {best_hps.get('learning_rate')}.\n",
        "\"\"\")"
      ],
      "metadata": {
        "colab": {
          "base_uri": "https://localhost:8080/"
        },
        "id": "vCuqiSRRpC7H",
        "outputId": "c93029dd-ec08-46cc-d272-972f470e137a"
      },
      "execution_count": null,
      "outputs": [
        {
          "output_type": "stream",
          "name": "stdout",
          "text": [
            "\n",
            "The hyperparameter search is complete. The optimal number of units in the first densely-connected\n",
            "layer is 188 and the optimal learning rate for the optimizer\n",
            "is 0.015792327714011775.\n",
            "\n"
          ]
        }
      ]
    },
    {
      "cell_type": "code",
      "source": [
        "print(best_hps.get('num_neurons_1'),best_hps.get('num_neurons_2'),best_hps.get('num_neurons_3'),best_hps.get('num_neurons_4'),best_hps.get('learning_rate'))"
      ],
      "metadata": {
        "id": "Uyaaf35b4zas",
        "outputId": "ebfca372-7289-46c4-b517-54418e83a37c",
        "colab": {
          "base_uri": "https://localhost:8080/"
        }
      },
      "execution_count": null,
      "outputs": [
        {
          "output_type": "stream",
          "name": "stdout",
          "text": [
            "188 148 112 112 0.015792327714011775\n"
          ]
        }
      ]
    },
    {
      "cell_type": "code",
      "source": [
        "model = tuner.hypermodel.build(best_hps)\n",
        "history = model.fit(np.array(x_train_p), np.array(y_train_p), validation_data=(np.array(x_val_p),np.array(y_val_p)),epochs=50)\n",
        "\n",
        "val_cross_entropy_per_epoch = history.history['val_loss']\n",
        "best_epoch = val_cross_entropy_per_epoch.index(min(val_cross_entropy_per_epoch)) + 1\n",
        "print('Best epoch: %d' % (best_epoch,))"
      ],
      "metadata": {
        "colab": {
          "base_uri": "https://localhost:8080/"
        },
        "id": "ZuGqWvaypXGZ",
        "outputId": "f4997f3d-a3b0-4d9e-e26a-072189ae40ef"
      },
      "execution_count": null,
      "outputs": [
        {
          "output_type": "stream",
          "name": "stdout",
          "text": [
            "Epoch 1/50\n",
            "2/2 [==============================] - 4s 396ms/step - loss: 2.3824 - accuracy: 0.5000 - f1: 0.6590 - val_loss: 1.0355 - val_accuracy: 0.5806 - val_f1: 0.7347\n",
            "Epoch 2/50\n",
            "2/2 [==============================] - 0s 41ms/step - loss: 2.4859 - accuracy: 0.4839 - f1: 0.6973 - val_loss: 0.7170 - val_accuracy: 0.4194 - val_f1: 0.8065\n",
            "Epoch 3/50\n",
            "2/2 [==============================] - 0s 45ms/step - loss: 1.0668 - accuracy: 0.5806 - f1: 0.5882 - val_loss: 0.6925 - val_accuracy: 0.5806 - val_f1: 0.8861\n",
            "Epoch 4/50\n",
            "2/2 [==============================] - 0s 45ms/step - loss: 1.8373 - accuracy: 0.4194 - f1: 0.5833 - val_loss: 0.6857 - val_accuracy: 0.5484 - val_f1: 0.5714\n",
            "Epoch 5/50\n",
            "2/2 [==============================] - 0s 43ms/step - loss: 0.9505 - accuracy: 0.5161 - f1: 0.4802 - val_loss: 0.7784 - val_accuracy: 0.4194 - val_f1: 0.7347\n",
            "Epoch 6/50\n",
            "2/2 [==============================] - 0s 43ms/step - loss: 1.0191 - accuracy: 0.5161 - f1: 0.5584 - val_loss: 0.7486 - val_accuracy: 0.4194 - val_f1: 0.3200\n",
            "Epoch 7/50\n",
            "2/2 [==============================] - 0s 46ms/step - loss: 0.8983 - accuracy: 0.4839 - f1: 0.6103 - val_loss: 0.7029 - val_accuracy: 0.4194 - val_f1: 0.0952\n",
            "Epoch 8/50\n",
            "2/2 [==============================] - 0s 42ms/step - loss: 0.6956 - accuracy: 0.5484 - f1: 0.4942 - val_loss: 0.6883 - val_accuracy: 0.5161 - val_f1: 0.1000\n",
            "Epoch 9/50\n",
            "2/2 [==============================] - 0s 59ms/step - loss: 0.6828 - accuracy: 0.6290 - f1: 0.5404 - val_loss: 0.6913 - val_accuracy: 0.4839 - val_f1: 0.0952\n",
            "Epoch 10/50\n",
            "2/2 [==============================] - 0s 43ms/step - loss: 0.6829 - accuracy: 0.5968 - f1: 0.6261 - val_loss: 0.6875 - val_accuracy: 0.4839 - val_f1: 0.8085\n",
            "Epoch 11/50\n",
            "2/2 [==============================] - 0s 39ms/step - loss: 0.7264 - accuracy: 0.5806 - f1: 0.5683 - val_loss: 0.6875 - val_accuracy: 0.5484 - val_f1: 0.9067\n",
            "Epoch 12/50\n",
            "2/2 [==============================] - 0s 41ms/step - loss: 0.6750 - accuracy: 0.5806 - f1: 0.5920 - val_loss: 0.6839 - val_accuracy: 0.5806 - val_f1: 0.8947\n",
            "Epoch 13/50\n",
            "2/2 [==============================] - 0s 60ms/step - loss: 0.6741 - accuracy: 0.5806 - f1: 0.6924 - val_loss: 0.6844 - val_accuracy: 0.5161 - val_f1: 0.9067\n",
            "Epoch 14/50\n",
            "2/2 [==============================] - 0s 41ms/step - loss: 0.5884 - accuracy: 0.5161 - f1: 0.7321 - val_loss: 0.6848 - val_accuracy: 0.4194 - val_f1: 0.9041\n",
            "Epoch 15/50\n",
            "2/2 [==============================] - 0s 40ms/step - loss: 0.6314 - accuracy: 0.6290 - f1: 0.6257 - val_loss: 0.6813 - val_accuracy: 0.4194 - val_f1: 0.9412\n",
            "Epoch 16/50\n",
            "2/2 [==============================] - 0s 43ms/step - loss: 0.6298 - accuracy: 0.6452 - f1: 0.6061 - val_loss: 0.6772 - val_accuracy: 0.4194 - val_f1: 0.9254\n",
            "Epoch 17/50\n",
            "2/2 [==============================] - 0s 41ms/step - loss: 0.6679 - accuracy: 0.5806 - f1: 0.6729 - val_loss: 0.6746 - val_accuracy: 0.6452 - val_f1: 0.9375\n",
            "Epoch 18/50\n",
            "2/2 [==============================] - 0s 48ms/step - loss: 0.5953 - accuracy: 0.6290 - f1: 0.5608 - val_loss: 0.6731 - val_accuracy: 0.6129 - val_f1: 0.8667\n",
            "Epoch 19/50\n",
            "2/2 [==============================] - 0s 40ms/step - loss: 0.6051 - accuracy: 0.6613 - f1: 0.5618 - val_loss: 0.6772 - val_accuracy: 0.5806 - val_f1: 0.8214\n",
            "Epoch 20/50\n",
            "2/2 [==============================] - 0s 40ms/step - loss: 0.5749 - accuracy: 0.6774 - f1: 0.6367 - val_loss: 0.6953 - val_accuracy: 0.6129 - val_f1: 0.7500\n",
            "Epoch 21/50\n",
            "2/2 [==============================] - 0s 43ms/step - loss: 0.5789 - accuracy: 0.5323 - f1: 0.6460 - val_loss: 0.7167 - val_accuracy: 0.6129 - val_f1: 0.7347\n",
            "Epoch 22/50\n",
            "2/2 [==============================] - 0s 40ms/step - loss: 0.5610 - accuracy: 0.6613 - f1: 0.6678 - val_loss: 0.7619 - val_accuracy: 0.5484 - val_f1: 0.7600\n",
            "Epoch 23/50\n",
            "2/2 [==============================] - 0s 45ms/step - loss: 0.5926 - accuracy: 0.6774 - f1: 0.6950 - val_loss: 0.7879 - val_accuracy: 0.5806 - val_f1: 0.7347\n",
            "Epoch 24/50\n",
            "2/2 [==============================] - 0s 49ms/step - loss: 0.5164 - accuracy: 0.7097 - f1: 0.6765 - val_loss: 0.7777 - val_accuracy: 0.6452 - val_f1: 0.7083\n",
            "Epoch 25/50\n",
            "2/2 [==============================] - 0s 44ms/step - loss: 0.6113 - accuracy: 0.6290 - f1: 0.5978 - val_loss: 0.8002 - val_accuracy: 0.6129 - val_f1: 0.7500\n",
            "Epoch 26/50\n",
            "2/2 [==============================] - 0s 41ms/step - loss: 0.5452 - accuracy: 0.6774 - f1: 0.6442 - val_loss: 0.8533 - val_accuracy: 0.6129 - val_f1: 0.7500\n",
            "Epoch 27/50\n",
            "2/2 [==============================] - 0s 41ms/step - loss: 0.4863 - accuracy: 0.7419 - f1: 0.5998 - val_loss: 0.9156 - val_accuracy: 0.6129 - val_f1: 0.7000\n",
            "Epoch 28/50\n",
            "2/2 [==============================] - 0s 50ms/step - loss: 0.5194 - accuracy: 0.6935 - f1: 0.6458 - val_loss: 0.9911 - val_accuracy: 0.5806 - val_f1: 0.7234\n",
            "Epoch 29/50\n",
            "2/2 [==============================] - 0s 41ms/step - loss: 0.4392 - accuracy: 0.7581 - f1: 0.6049 - val_loss: 1.1618 - val_accuracy: 0.5484 - val_f1: 0.7500\n",
            "Epoch 30/50\n",
            "2/2 [==============================] - 0s 45ms/step - loss: 0.4973 - accuracy: 0.8065 - f1: 0.5460 - val_loss: 1.2111 - val_accuracy: 0.6452 - val_f1: 0.8000\n",
            "Epoch 31/50\n",
            "2/2 [==============================] - 0s 61ms/step - loss: 0.4232 - accuracy: 0.7903 - f1: 0.5838 - val_loss: 1.1962 - val_accuracy: 0.6452 - val_f1: 0.7660\n",
            "Epoch 32/50\n",
            "2/2 [==============================] - 0s 43ms/step - loss: 0.4288 - accuracy: 0.7903 - f1: 0.5952 - val_loss: 1.2190 - val_accuracy: 0.7097 - val_f1: 0.7347\n",
            "Epoch 33/50\n",
            "2/2 [==============================] - 0s 42ms/step - loss: 0.4375 - accuracy: 0.7742 - f1: 0.6235 - val_loss: 1.1614 - val_accuracy: 0.7419 - val_f1: 0.7234\n",
            "Epoch 34/50\n",
            "2/2 [==============================] - 0s 44ms/step - loss: 0.3427 - accuracy: 0.8548 - f1: 0.6382 - val_loss: 1.0786 - val_accuracy: 0.7097 - val_f1: 0.7500\n",
            "Epoch 35/50\n",
            "2/2 [==============================] - 0s 39ms/step - loss: 0.3958 - accuracy: 0.8226 - f1: 0.6026 - val_loss: 1.2092 - val_accuracy: 0.7742 - val_f1: 0.7500\n",
            "Epoch 36/50\n",
            "2/2 [==============================] - 0s 40ms/step - loss: 0.3432 - accuracy: 0.8387 - f1: 0.6074 - val_loss: 1.4698 - val_accuracy: 0.7742 - val_f1: 0.7347\n",
            "Epoch 37/50\n",
            "2/2 [==============================] - 0s 45ms/step - loss: 0.3055 - accuracy: 0.9194 - f1: 0.5951 - val_loss: 2.2531 - val_accuracy: 0.7097 - val_f1: 0.7347\n",
            "Epoch 38/50\n",
            "2/2 [==============================] - 0s 40ms/step - loss: 0.2833 - accuracy: 0.8710 - f1: 0.6823 - val_loss: 2.5788 - val_accuracy: 0.7097 - val_f1: 0.7347\n",
            "Epoch 39/50\n",
            "2/2 [==============================] - 0s 41ms/step - loss: 0.2561 - accuracy: 0.8710 - f1: 0.6494 - val_loss: 1.7018 - val_accuracy: 0.7742 - val_f1: 0.7200\n",
            "Epoch 40/50\n",
            "2/2 [==============================] - 0s 39ms/step - loss: 0.7623 - accuracy: 0.7742 - f1: 0.5806 - val_loss: 1.3766 - val_accuracy: 0.6129 - val_f1: 0.8077\n",
            "Epoch 41/50\n",
            "2/2 [==============================] - 0s 40ms/step - loss: 0.4505 - accuracy: 0.8226 - f1: 0.5192 - val_loss: 1.1902 - val_accuracy: 0.5484 - val_f1: 0.7600\n",
            "Epoch 42/50\n",
            "2/2 [==============================] - 0s 55ms/step - loss: 0.4223 - accuracy: 0.7742 - f1: 0.5622 - val_loss: 1.2003 - val_accuracy: 0.6452 - val_f1: 0.7200\n",
            "Epoch 43/50\n",
            "2/2 [==============================] - 0s 42ms/step - loss: 0.5039 - accuracy: 0.6935 - f1: 0.6088 - val_loss: 1.3180 - val_accuracy: 0.6452 - val_f1: 0.7059\n",
            "Epoch 44/50\n",
            "2/2 [==============================] - 0s 42ms/step - loss: 0.4534 - accuracy: 0.7742 - f1: 0.6304 - val_loss: 0.9509 - val_accuracy: 0.6452 - val_f1: 0.7308\n",
            "Epoch 45/50\n",
            "2/2 [==============================] - 0s 41ms/step - loss: 0.4318 - accuracy: 0.7903 - f1: 0.5659 - val_loss: 0.9087 - val_accuracy: 0.6774 - val_f1: 0.6909\n",
            "Epoch 46/50\n",
            "2/2 [==============================] - 0s 39ms/step - loss: 0.3849 - accuracy: 0.8226 - f1: 0.5711 - val_loss: 0.9088 - val_accuracy: 0.7419 - val_f1: 0.7667\n",
            "Epoch 47/50\n",
            "2/2 [==============================] - 0s 39ms/step - loss: 0.3957 - accuracy: 0.8065 - f1: 0.6136 - val_loss: 1.0858 - val_accuracy: 0.7419 - val_f1: 0.7667\n",
            "Epoch 48/50\n",
            "2/2 [==============================] - 0s 46ms/step - loss: 0.2563 - accuracy: 0.8871 - f1: 0.5679 - val_loss: 1.1758 - val_accuracy: 0.7742 - val_f1: 0.7857\n",
            "Epoch 49/50\n",
            "2/2 [==============================] - 0s 50ms/step - loss: 0.4914 - accuracy: 0.9032 - f1: 0.6171 - val_loss: 0.9253 - val_accuracy: 0.7419 - val_f1: 0.7778\n",
            "Epoch 50/50\n",
            "2/2 [==============================] - 0s 41ms/step - loss: 0.3857 - accuracy: 0.8710 - f1: 0.5498 - val_loss: 0.6836 - val_accuracy: 0.7742 - val_f1: 0.6885\n",
            "Best epoch: 18\n"
          ]
        }
      ]
    },
    {
      "cell_type": "code",
      "source": [
        "x_train_p_combined = np.concatenate((np.array(x_train_p), np.array(x_val_p)), axis=0)\n",
        "y_train_p_combined = np.concatenate((np.array(y_train_p), np.array(y_val_p)), axis=0)\n"
      ],
      "metadata": {
        "id": "IiHmHrQ_8TZC"
      },
      "execution_count": null,
      "outputs": []
    },
    {
      "cell_type": "code",
      "source": [
        "hypermodel = tuner.hypermodel.build(best_hps)\n",
        "history = hypermodel.fit(x_train_p_combined, y_train_p_combined,epochs=best_epoch)"
      ],
      "metadata": {
        "colab": {
          "base_uri": "https://localhost:8080/"
        },
        "id": "1BnKNBdQrtpT",
        "outputId": "3d51baac-77b5-43f9-ed10-d87c9722e9cd"
      },
      "execution_count": null,
      "outputs": [
        {
          "output_type": "stream",
          "name": "stdout",
          "text": [
            "Epoch 1/18\n",
            "3/3 [==============================] - 1s 28ms/step - loss: 1.8431 - accuracy: 0.5269 - f1: 0.6945\n",
            "Epoch 2/18\n",
            "3/3 [==============================] - 0s 15ms/step - loss: 2.5371 - accuracy: 0.5699 - f1: 0.6486\n",
            "Epoch 3/18\n",
            "3/3 [==============================] - 0s 14ms/step - loss: 1.0228 - accuracy: 0.6129 - f1: 0.6786\n",
            "Epoch 4/18\n",
            "3/3 [==============================] - 0s 14ms/step - loss: 0.9815 - accuracy: 0.4839 - f1: 0.6585\n",
            "Epoch 5/18\n",
            "3/3 [==============================] - 0s 15ms/step - loss: 0.7482 - accuracy: 0.5054 - f1: 0.6229\n",
            "Epoch 6/18\n",
            "3/3 [==============================] - 0s 14ms/step - loss: 0.6823 - accuracy: 0.5484 - f1: 0.6893\n",
            "Epoch 7/18\n",
            "3/3 [==============================] - 0s 14ms/step - loss: 0.6811 - accuracy: 0.6022 - f1: 0.6362\n",
            "Epoch 8/18\n",
            "3/3 [==============================] - 0s 14ms/step - loss: 0.7229 - accuracy: 0.6129 - f1: 0.6063\n",
            "Epoch 9/18\n",
            "3/3 [==============================] - 0s 18ms/step - loss: 0.6267 - accuracy: 0.5914 - f1: 0.5915\n",
            "Epoch 10/18\n",
            "3/3 [==============================] - 0s 14ms/step - loss: 0.6616 - accuracy: 0.6129 - f1: 0.5758\n",
            "Epoch 11/18\n",
            "3/3 [==============================] - 0s 18ms/step - loss: 0.6320 - accuracy: 0.6344 - f1: 0.6842\n",
            "Epoch 12/18\n",
            "3/3 [==============================] - 0s 15ms/step - loss: 0.6626 - accuracy: 0.6989 - f1: 0.6181\n",
            "Epoch 13/18\n",
            "3/3 [==============================] - 0s 17ms/step - loss: 0.5157 - accuracy: 0.7312 - f1: 0.5692\n",
            "Epoch 14/18\n",
            "3/3 [==============================] - 0s 14ms/step - loss: 0.5187 - accuracy: 0.7419 - f1: 0.6742\n",
            "Epoch 15/18\n",
            "3/3 [==============================] - 0s 15ms/step - loss: 0.4771 - accuracy: 0.7742 - f1: 0.6213\n",
            "Epoch 16/18\n",
            "3/3 [==============================] - 0s 16ms/step - loss: 0.5659 - accuracy: 0.7742 - f1: 0.6206\n",
            "Epoch 17/18\n",
            "3/3 [==============================] - 0s 16ms/step - loss: 0.5538 - accuracy: 0.7419 - f1: 0.6630\n",
            "Epoch 18/18\n",
            "3/3 [==============================] - 0s 15ms/step - loss: 0.4737 - accuracy: 0.7527 - f1: 0.6817\n"
          ]
        }
      ]
    },
    {
      "cell_type": "code",
      "source": [
        "hypermodel.evaluate(x_train_p_combined,y_train_p_combined)"
      ],
      "metadata": {
        "colab": {
          "base_uri": "https://localhost:8080/"
        },
        "id": "2KRTmIKcsZ_L",
        "outputId": "2b299757-179d-46a1-81e8-388aeeee5554"
      },
      "execution_count": null,
      "outputs": [
        {
          "output_type": "stream",
          "name": "stdout",
          "text": [
            "3/3 [==============================] - 0s 6ms/step - loss: 0.3946 - accuracy: 0.8387 - f1: 0.6424\n"
          ]
        },
        {
          "output_type": "execute_result",
          "data": {
            "text/plain": [
              "[0.39461418986320496, 0.8387096524238586, 0.642395555973053]"
            ]
          },
          "metadata": {},
          "execution_count": 102
        }
      ]
    },
    {
      "cell_type": "code",
      "source": [
        "hypermodel.evaluate(np.array(x_test_p),np.array(y_test_p))"
      ],
      "metadata": {
        "colab": {
          "base_uri": "https://localhost:8080/"
        },
        "id": "gltgyN4fr2tb",
        "outputId": "ae9c565b-86bc-48e4-b373-0c91aaf7d7b7"
      },
      "execution_count": null,
      "outputs": [
        {
          "output_type": "stream",
          "name": "stdout",
          "text": [
            "7/7 [==============================] - 0s 5ms/step - loss: 0.7443 - accuracy: 0.7376 - f1: 0.6457\n"
          ]
        },
        {
          "output_type": "execute_result",
          "data": {
            "text/plain": [
              "[0.7442671656608582, 0.7375565767288208, 0.6457352042198181]"
            ]
          },
          "metadata": {},
          "execution_count": 103
        }
      ]
    },
    {
      "cell_type": "markdown",
      "source": [
        "### Gossipcop"
      ],
      "metadata": {
        "id": "80c-B1k1s3F0"
      }
    },
    {
      "cell_type": "code",
      "execution_count": null,
      "metadata": {
        "colab": {
          "base_uri": "https://localhost:8080/"
        },
        "outputId": "188341cd-895c-4277-e926-71ee28586b15",
        "id": "J6rGrNRCuTrS"
      },
      "outputs": [
        {
          "output_type": "stream",
          "name": "stdout",
          "text": [
            "Trial 20 Complete [00h 00m 08s]\n",
            "val_loss: 0.6935113072395325\n",
            "\n",
            "Best val_loss So Far: 0.4920743703842163\n",
            "Total elapsed time: 00h 02m 06s\n"
          ]
        }
      ],
      "source": [
        "tuner = kt.RandomSearch(\n",
        "    hypermodel=tuneModel,\n",
        "    objective=kt.Objective(\"val_loss\", direction=\"min\"),\n",
        "    max_trials=20,\n",
        "    overwrite=True,\n",
        "    directory=\"my_dir\",\n",
        "    project_name=\"helloworld\",\n",
        ")\n",
        "tuner.search(np.array(x_train_g), np.array(y_train_g), epochs=100, validation_data=(np.array(x_val_g), np.array(y_val_g)), callbacks=[valid_callback('model')])\n"
      ]
    },
    {
      "cell_type": "code",
      "source": [
        "best_hps=tuner.get_best_hyperparameters(num_trials=1)[0]\n",
        "print(f\"\"\"\n",
        "The hyperparameter search is complete. The optimal number of units in the first densely-connected\n",
        "layer is {best_hps.get('num_neurons_1')} and the optimal learning rate for the optimizer\n",
        "is {best_hps.get('learning_rate')}.\n",
        "\"\"\")"
      ],
      "metadata": {
        "colab": {
          "base_uri": "https://localhost:8080/"
        },
        "outputId": "7fbb8191-f300-4d12-a593-89a94c3a7170",
        "id": "XBZqSOZiuTrU"
      },
      "execution_count": null,
      "outputs": [
        {
          "output_type": "stream",
          "name": "stdout",
          "text": [
            "\n",
            "The hyperparameter search is complete. The optimal number of units in the first densely-connected\n",
            "layer is 140 and the optimal learning rate for the optimizer\n",
            "is 0.00039172756021875113.\n",
            "\n"
          ]
        }
      ]
    },
    {
      "cell_type": "code",
      "source": [
        "print(best_hps.get('num_neurons_1'),best_hps.get('num_neurons_2'),best_hps.get('num_neurons_3'),best_hps.get('num_neurons_4'),best_hps.get('learning_rate'))"
      ],
      "metadata": {
        "id": "ViFjFxEH6B0p",
        "outputId": "aad79411-6a45-4121-f178-af8d3009dce9",
        "colab": {
          "base_uri": "https://localhost:8080/"
        }
      },
      "execution_count": null,
      "outputs": [
        {
          "output_type": "stream",
          "name": "stdout",
          "text": [
            "140 136 204 116 0.00039172756021875113\n"
          ]
        }
      ]
    },
    {
      "cell_type": "code",
      "source": [
        "model = tuner.hypermodel.build(best_hps)\n",
        "history = model.fit(np.array(x_train_g), np.array(y_train_g), validation_data=(np.array(x_val_g),np.array(y_val_g)),epochs=50)\n",
        "\n",
        "val_cross_entropy_loss_per_epoch = history.history['val_loss']\n",
        "best_epoch = val_cross_entropy_loss_per_epoch.index(min(val_cross_entropy_loss_per_epoch)) + 1\n",
        "print('Best epoch: %d' % (best_epoch,))"
      ],
      "metadata": {
        "colab": {
          "base_uri": "https://localhost:8080/"
        },
        "outputId": "b00c4bea-cf50-4a09-c190-2cf9741342ff",
        "id": "oafcP1UkuTrV"
      },
      "execution_count": null,
      "outputs": [
        {
          "output_type": "stream",
          "name": "stdout",
          "text": [
            "Epoch 1/50\n",
            "35/35 [==============================] - 2s 17ms/step - loss: 0.8150 - accuracy: 0.5009 - f1: 0.7068 - val_loss: 0.6903 - val_accuracy: 0.4963 - val_f1: 0.8088\n",
            "Epoch 2/50\n",
            "35/35 [==============================] - 0s 8ms/step - loss: 0.7148 - accuracy: 0.5183 - f1: 0.7237 - val_loss: 0.6856 - val_accuracy: 0.5824 - val_f1: 0.7796\n",
            "Epoch 3/50\n",
            "35/35 [==============================] - 0s 9ms/step - loss: 0.7103 - accuracy: 0.5147 - f1: 0.7011 - val_loss: 0.6818 - val_accuracy: 0.6209 - val_f1: 0.7569\n",
            "Epoch 4/50\n",
            "35/35 [==============================] - 0s 8ms/step - loss: 0.6931 - accuracy: 0.5687 - f1: 0.7069 - val_loss: 0.6756 - val_accuracy: 0.6300 - val_f1: 0.6661\n",
            "Epoch 5/50\n",
            "35/35 [==============================] - 0s 9ms/step - loss: 0.6915 - accuracy: 0.5238 - f1: 0.7196 - val_loss: 0.6752 - val_accuracy: 0.6520 - val_f1: 0.7313\n",
            "Epoch 6/50\n",
            "35/35 [==============================] - 0s 9ms/step - loss: 0.6789 - accuracy: 0.5687 - f1: 0.7251 - val_loss: 0.6709 - val_accuracy: 0.6484 - val_f1: 0.7777\n",
            "Epoch 7/50\n",
            "35/35 [==============================] - 0s 8ms/step - loss: 0.6763 - accuracy: 0.5769 - f1: 0.7222 - val_loss: 0.6577 - val_accuracy: 0.6447 - val_f1: 0.7816\n",
            "Epoch 8/50\n",
            "35/35 [==============================] - 0s 9ms/step - loss: 0.6608 - accuracy: 0.6007 - f1: 0.7059 - val_loss: 0.6410 - val_accuracy: 0.6813 - val_f1: 0.6500\n",
            "Epoch 9/50\n",
            "35/35 [==============================] - 0s 9ms/step - loss: 0.6532 - accuracy: 0.6090 - f1: 0.6979 - val_loss: 0.6207 - val_accuracy: 0.7070 - val_f1: 0.6732\n",
            "Epoch 10/50\n",
            "35/35 [==============================] - 0s 8ms/step - loss: 0.6411 - accuracy: 0.6337 - f1: 0.6951 - val_loss: 0.5949 - val_accuracy: 0.7179 - val_f1: 0.6803\n",
            "Epoch 11/50\n",
            "35/35 [==============================] - 0s 8ms/step - loss: 0.6054 - accuracy: 0.6932 - f1: 0.6790 - val_loss: 0.5644 - val_accuracy: 0.7271 - val_f1: 0.6734\n",
            "Epoch 12/50\n",
            "35/35 [==============================] - 0s 11ms/step - loss: 0.5918 - accuracy: 0.6923 - f1: 0.7012 - val_loss: 0.5509 - val_accuracy: 0.7399 - val_f1: 0.6844\n",
            "Epoch 13/50\n",
            "35/35 [==============================] - 0s 8ms/step - loss: 0.5958 - accuracy: 0.6822 - f1: 0.6874 - val_loss: 0.5534 - val_accuracy: 0.7418 - val_f1: 0.6971\n",
            "Epoch 14/50\n",
            "35/35 [==============================] - 0s 9ms/step - loss: 0.5769 - accuracy: 0.6978 - f1: 0.6914 - val_loss: 0.5361 - val_accuracy: 0.7491 - val_f1: 0.6815\n",
            "Epoch 15/50\n",
            "35/35 [==============================] - 0s 9ms/step - loss: 0.5747 - accuracy: 0.7161 - f1: 0.6980 - val_loss: 0.5351 - val_accuracy: 0.7436 - val_f1: 0.6854\n",
            "Epoch 16/50\n",
            "35/35 [==============================] - 0s 8ms/step - loss: 0.5463 - accuracy: 0.7482 - f1: 0.6841 - val_loss: 0.5202 - val_accuracy: 0.7454 - val_f1: 0.6765\n",
            "Epoch 17/50\n",
            "35/35 [==============================] - 0s 8ms/step - loss: 0.5507 - accuracy: 0.7372 - f1: 0.6696 - val_loss: 0.5141 - val_accuracy: 0.7546 - val_f1: 0.6830\n",
            "Epoch 18/50\n",
            "35/35 [==============================] - 0s 8ms/step - loss: 0.5290 - accuracy: 0.7491 - f1: 0.6858 - val_loss: 0.5055 - val_accuracy: 0.7509 - val_f1: 0.6714\n",
            "Epoch 19/50\n",
            "35/35 [==============================] - 0s 8ms/step - loss: 0.5259 - accuracy: 0.7317 - f1: 0.6887 - val_loss: 0.5065 - val_accuracy: 0.7637 - val_f1: 0.6848\n",
            "Epoch 20/50\n",
            "35/35 [==============================] - 0s 8ms/step - loss: 0.5047 - accuracy: 0.7592 - f1: 0.6796 - val_loss: 0.4932 - val_accuracy: 0.7564 - val_f1: 0.6843\n",
            "Epoch 21/50\n",
            "35/35 [==============================] - 0s 8ms/step - loss: 0.5263 - accuracy: 0.7399 - f1: 0.6818 - val_loss: 0.5035 - val_accuracy: 0.7546 - val_f1: 0.6750\n",
            "Epoch 22/50\n",
            "35/35 [==============================] - 0s 8ms/step - loss: 0.5163 - accuracy: 0.7509 - f1: 0.6664 - val_loss: 0.4997 - val_accuracy: 0.7582 - val_f1: 0.6689\n",
            "Epoch 23/50\n",
            "35/35 [==============================] - 0s 8ms/step - loss: 0.5162 - accuracy: 0.7353 - f1: 0.6639 - val_loss: 0.5191 - val_accuracy: 0.7436 - val_f1: 0.6665\n",
            "Epoch 24/50\n",
            "35/35 [==============================] - 0s 8ms/step - loss: 0.5108 - accuracy: 0.7527 - f1: 0.6725 - val_loss: 0.4960 - val_accuracy: 0.7564 - val_f1: 0.6717\n",
            "Epoch 25/50\n",
            "35/35 [==============================] - 0s 9ms/step - loss: 0.4972 - accuracy: 0.7656 - f1: 0.6587 - val_loss: 0.4986 - val_accuracy: 0.7454 - val_f1: 0.6758\n",
            "Epoch 26/50\n",
            "35/35 [==============================] - 0s 9ms/step - loss: 0.4700 - accuracy: 0.7775 - f1: 0.6771 - val_loss: 0.5031 - val_accuracy: 0.7473 - val_f1: 0.6760\n",
            "Epoch 27/50\n",
            "35/35 [==============================] - 0s 8ms/step - loss: 0.4828 - accuracy: 0.7637 - f1: 0.6662 - val_loss: 0.4902 - val_accuracy: 0.7747 - val_f1: 0.6728\n",
            "Epoch 28/50\n",
            "35/35 [==============================] - 0s 9ms/step - loss: 0.4657 - accuracy: 0.7793 - f1: 0.6626 - val_loss: 0.4866 - val_accuracy: 0.7674 - val_f1: 0.6773\n",
            "Epoch 29/50\n",
            "35/35 [==============================] - 0s 9ms/step - loss: 0.4561 - accuracy: 0.7949 - f1: 0.6734 - val_loss: 0.4906 - val_accuracy: 0.7619 - val_f1: 0.6795\n",
            "Epoch 30/50\n",
            "35/35 [==============================] - 0s 9ms/step - loss: 0.4493 - accuracy: 0.7958 - f1: 0.6560 - val_loss: 0.4880 - val_accuracy: 0.7656 - val_f1: 0.6758\n",
            "Epoch 31/50\n",
            "35/35 [==============================] - 0s 9ms/step - loss: 0.4491 - accuracy: 0.7995 - f1: 0.6581 - val_loss: 0.4982 - val_accuracy: 0.7766 - val_f1: 0.6855\n",
            "Epoch 32/50\n",
            "35/35 [==============================] - 0s 9ms/step - loss: 0.4508 - accuracy: 0.7949 - f1: 0.6646 - val_loss: 0.4783 - val_accuracy: 0.7802 - val_f1: 0.6722\n",
            "Epoch 33/50\n",
            "35/35 [==============================] - 0s 9ms/step - loss: 0.4201 - accuracy: 0.8004 - f1: 0.6611 - val_loss: 0.4954 - val_accuracy: 0.7656 - val_f1: 0.6770\n",
            "Epoch 34/50\n",
            "35/35 [==============================] - 0s 8ms/step - loss: 0.4246 - accuracy: 0.8068 - f1: 0.6698 - val_loss: 0.5105 - val_accuracy: 0.7601 - val_f1: 0.6744\n",
            "Epoch 35/50\n",
            "35/35 [==============================] - 0s 8ms/step - loss: 0.4402 - accuracy: 0.8068 - f1: 0.6753 - val_loss: 0.5003 - val_accuracy: 0.7802 - val_f1: 0.6728\n",
            "Epoch 36/50\n",
            "35/35 [==============================] - 0s 8ms/step - loss: 0.4321 - accuracy: 0.7885 - f1: 0.6545 - val_loss: 0.4966 - val_accuracy: 0.7637 - val_f1: 0.6740\n",
            "Epoch 37/50\n",
            "35/35 [==============================] - 0s 8ms/step - loss: 0.4224 - accuracy: 0.8040 - f1: 0.6530 - val_loss: 0.5178 - val_accuracy: 0.7509 - val_f1: 0.6753\n",
            "Epoch 38/50\n",
            "35/35 [==============================] - 0s 9ms/step - loss: 0.4061 - accuracy: 0.8031 - f1: 0.6597 - val_loss: 0.4973 - val_accuracy: 0.7582 - val_f1: 0.6715\n",
            "Epoch 39/50\n",
            "35/35 [==============================] - 0s 9ms/step - loss: 0.4410 - accuracy: 0.8031 - f1: 0.6782 - val_loss: 0.5020 - val_accuracy: 0.7582 - val_f1: 0.6744\n",
            "Epoch 40/50\n",
            "35/35 [==============================] - 0s 9ms/step - loss: 0.3988 - accuracy: 0.8196 - f1: 0.6675 - val_loss: 0.5123 - val_accuracy: 0.7546 - val_f1: 0.6729\n",
            "Epoch 41/50\n",
            "35/35 [==============================] - 0s 9ms/step - loss: 0.3920 - accuracy: 0.8297 - f1: 0.6630 - val_loss: 0.5134 - val_accuracy: 0.7637 - val_f1: 0.6744\n",
            "Epoch 42/50\n",
            "35/35 [==============================] - 0s 9ms/step - loss: 0.3933 - accuracy: 0.8233 - f1: 0.6590 - val_loss: 0.5380 - val_accuracy: 0.7601 - val_f1: 0.6737\n",
            "Epoch 43/50\n",
            "35/35 [==============================] - 0s 8ms/step - loss: 0.4074 - accuracy: 0.8077 - f1: 0.6597 - val_loss: 0.5100 - val_accuracy: 0.7747 - val_f1: 0.6730\n",
            "Epoch 44/50\n",
            "35/35 [==============================] - 0s 8ms/step - loss: 0.3727 - accuracy: 0.8150 - f1: 0.6451 - val_loss: 0.5195 - val_accuracy: 0.7656 - val_f1: 0.6779\n",
            "Epoch 45/50\n",
            "35/35 [==============================] - 0s 8ms/step - loss: 0.3714 - accuracy: 0.8315 - f1: 0.6526 - val_loss: 0.5439 - val_accuracy: 0.7326 - val_f1: 0.6764\n",
            "Epoch 46/50\n",
            "35/35 [==============================] - 0s 9ms/step - loss: 0.3617 - accuracy: 0.8214 - f1: 0.6604 - val_loss: 0.5355 - val_accuracy: 0.7473 - val_f1: 0.6742\n",
            "Epoch 47/50\n",
            "35/35 [==============================] - 0s 9ms/step - loss: 0.3412 - accuracy: 0.8443 - f1: 0.6539 - val_loss: 0.5612 - val_accuracy: 0.7637 - val_f1: 0.6749\n",
            "Epoch 48/50\n",
            "35/35 [==============================] - 0s 8ms/step - loss: 0.3423 - accuracy: 0.8370 - f1: 0.6627 - val_loss: 0.5522 - val_accuracy: 0.7692 - val_f1: 0.6731\n",
            "Epoch 49/50\n",
            "35/35 [==============================] - 0s 9ms/step - loss: 0.3443 - accuracy: 0.8425 - f1: 0.6522 - val_loss: 0.5774 - val_accuracy: 0.7473 - val_f1: 0.6741\n",
            "Epoch 50/50\n",
            "35/35 [==============================] - 0s 8ms/step - loss: 0.3485 - accuracy: 0.8443 - f1: 0.6456 - val_loss: 0.5575 - val_accuracy: 0.7527 - val_f1: 0.6735\n",
            "Best epoch: 32\n"
          ]
        }
      ]
    },
    {
      "cell_type": "code",
      "source": [
        "x_train_g_combined = np.concatenate((np.array(x_train_g), np.array(x_val_g)), axis=0)\n",
        "y_train_g_combined = np.concatenate((np.array(y_train_g), np.array(y_val_g)), axis=0)"
      ],
      "metadata": {
        "id": "FhQa2OaFAFpY"
      },
      "execution_count": null,
      "outputs": []
    },
    {
      "cell_type": "code",
      "source": [
        "hypermodel = tuner.hypermodel.build(best_hps)\n",
        "\n",
        "# Retrain the model with the best epoch\n",
        "history = hypermodel.fit(x_train_g_combined,y_train_g_combined,epochs=best_epoch)\n"
      ],
      "metadata": {
        "colab": {
          "base_uri": "https://localhost:8080/"
        },
        "outputId": "a2a20b4a-72e6-484b-b541-23bd502dd8f7",
        "id": "X5CR-SmauTrW"
      },
      "execution_count": null,
      "outputs": [
        {
          "output_type": "stream",
          "name": "stdout",
          "text": [
            "Epoch 1/32\n",
            "52/52 [==============================] - 1s 6ms/step - loss: 0.7851 - accuracy: 0.5317 - f1: 0.6449\n",
            "Epoch 2/32\n",
            "52/52 [==============================] - 0s 6ms/step - loss: 0.7119 - accuracy: 0.5122 - f1: 0.6267\n",
            "Epoch 3/32\n",
            "52/52 [==============================] - 0s 6ms/step - loss: 0.6987 - accuracy: 0.5104 - f1: 0.5995\n",
            "Epoch 4/32\n",
            "52/52 [==============================] - 0s 6ms/step - loss: 0.6958 - accuracy: 0.5232 - f1: 0.5785\n",
            "Epoch 5/32\n",
            "52/52 [==============================] - 0s 6ms/step - loss: 0.6835 - accuracy: 0.5421 - f1: 0.6354\n",
            "Epoch 6/32\n",
            "52/52 [==============================] - 0s 6ms/step - loss: 0.6724 - accuracy: 0.5836 - f1: 0.6165\n",
            "Epoch 7/32\n",
            "52/52 [==============================] - 0s 6ms/step - loss: 0.6345 - accuracy: 0.6441 - f1: 0.6053\n",
            "Epoch 8/32\n",
            "52/52 [==============================] - 0s 6ms/step - loss: 0.6363 - accuracy: 0.6422 - f1: 0.6114\n",
            "Epoch 9/32\n",
            "52/52 [==============================] - 0s 7ms/step - loss: 0.6149 - accuracy: 0.6722 - f1: 0.6106\n",
            "Epoch 10/32\n",
            "52/52 [==============================] - 0s 7ms/step - loss: 0.5937 - accuracy: 0.7173 - f1: 0.5942\n",
            "Epoch 11/32\n",
            "52/52 [==============================] - 0s 6ms/step - loss: 0.5733 - accuracy: 0.7112 - f1: 0.6210\n",
            "Epoch 12/32\n",
            "52/52 [==============================] - 0s 6ms/step - loss: 0.5534 - accuracy: 0.7137 - f1: 0.6187\n",
            "Epoch 13/32\n",
            "52/52 [==============================] - 0s 6ms/step - loss: 0.5462 - accuracy: 0.7369 - f1: 0.6345\n",
            "Epoch 14/32\n",
            "52/52 [==============================] - 0s 6ms/step - loss: 0.5457 - accuracy: 0.7375 - f1: 0.6375\n",
            "Epoch 15/32\n",
            "52/52 [==============================] - 0s 6ms/step - loss: 0.5241 - accuracy: 0.7381 - f1: 0.6402\n",
            "Epoch 16/32\n",
            "52/52 [==============================] - 0s 6ms/step - loss: 0.5333 - accuracy: 0.7387 - f1: 0.6392\n",
            "Epoch 17/32\n",
            "52/52 [==============================] - 0s 6ms/step - loss: 0.4998 - accuracy: 0.7558 - f1: 0.6521\n",
            "Epoch 18/32\n",
            "52/52 [==============================] - 0s 6ms/step - loss: 0.5216 - accuracy: 0.7613 - f1: 0.6529\n",
            "Epoch 19/32\n",
            "52/52 [==============================] - 0s 6ms/step - loss: 0.5085 - accuracy: 0.7656 - f1: 0.6368\n",
            "Epoch 20/32\n",
            "52/52 [==============================] - 0s 6ms/step - loss: 0.4998 - accuracy: 0.7589 - f1: 0.6487\n",
            "Epoch 21/32\n",
            "52/52 [==============================] - 0s 6ms/step - loss: 0.4814 - accuracy: 0.7662 - f1: 0.6586\n",
            "Epoch 22/32\n",
            "52/52 [==============================] - 0s 6ms/step - loss: 0.4645 - accuracy: 0.7595 - f1: 0.6505\n",
            "Epoch 23/32\n",
            "52/52 [==============================] - 0s 6ms/step - loss: 0.4776 - accuracy: 0.7735 - f1: 0.6588\n",
            "Epoch 24/32\n",
            "52/52 [==============================] - 0s 6ms/step - loss: 0.4701 - accuracy: 0.7869 - f1: 0.6554\n",
            "Epoch 25/32\n",
            "52/52 [==============================] - 0s 6ms/step - loss: 0.4639 - accuracy: 0.7808 - f1: 0.6556\n",
            "Epoch 26/32\n",
            "52/52 [==============================] - 0s 6ms/step - loss: 0.4478 - accuracy: 0.7882 - f1: 0.6531\n",
            "Epoch 27/32\n",
            "52/52 [==============================] - 0s 6ms/step - loss: 0.4518 - accuracy: 0.8004 - f1: 0.6564\n",
            "Epoch 28/32\n",
            "52/52 [==============================] - 0s 6ms/step - loss: 0.4524 - accuracy: 0.7827 - f1: 0.6572\n",
            "Epoch 29/32\n",
            "52/52 [==============================] - 0s 6ms/step - loss: 0.4469 - accuracy: 0.7802 - f1: 0.6501\n",
            "Epoch 30/32\n",
            "52/52 [==============================] - 0s 6ms/step - loss: 0.4312 - accuracy: 0.7961 - f1: 0.6607\n",
            "Epoch 31/32\n",
            "52/52 [==============================] - 0s 6ms/step - loss: 0.4421 - accuracy: 0.8022 - f1: 0.6633\n",
            "Epoch 32/32\n",
            "52/52 [==============================] - 0s 6ms/step - loss: 0.4501 - accuracy: 0.7949 - f1: 0.6629\n"
          ]
        }
      ]
    },
    {
      "cell_type": "code",
      "source": [
        "hypermodel.evaluate(np.array(x_val_g),np.array(y_val_g))"
      ],
      "metadata": {
        "colab": {
          "base_uri": "https://localhost:8080/"
        },
        "outputId": "567c7099-9b50-4a9b-98de-3d013d44d738",
        "id": "zVteZLsEuTrX"
      },
      "execution_count": null,
      "outputs": [
        {
          "output_type": "stream",
          "name": "stdout",
          "text": [
            "18/18 [==============================] - 0s 3ms/step - loss: 0.3744 - accuracy: 0.8388 - f1: 0.6715\n"
          ]
        },
        {
          "output_type": "execute_result",
          "data": {
            "text/plain": [
              "[0.374373197555542, 0.8388278484344482, 0.6715036630630493]"
            ]
          },
          "metadata": {},
          "execution_count": 120
        }
      ]
    },
    {
      "cell_type": "code",
      "source": [
        "hypermodel.evaluate(np.array(x_test_g),np.array(y_test_g))"
      ],
      "metadata": {
        "colab": {
          "base_uri": "https://localhost:8080/"
        },
        "outputId": "32f380a8-7bb7-4d76-94cc-c26bac1b050c",
        "id": "C6ut8wchuTrX"
      },
      "execution_count": null,
      "outputs": [
        {
          "output_type": "stream",
          "name": "stdout",
          "text": [
            "120/120 [==============================] - 0s 3ms/step - loss: 0.5558 - accuracy: 0.7250 - f1: 0.6637\n"
          ]
        },
        {
          "output_type": "execute_result",
          "data": {
            "text/plain": [
              "[0.5557830929756165, 0.7250391840934753, 0.663719892501831]"
            ]
          },
          "metadata": {},
          "execution_count": 121
        }
      ]
    }
  ],
  "metadata": {
    "colab": {
      "provenance": []
    },
    "kernelspec": {
      "display_name": "Python 3",
      "name": "python3"
    },
    "language_info": {
      "name": "python"
    }
  },
  "nbformat": 4,
  "nbformat_minor": 0
}